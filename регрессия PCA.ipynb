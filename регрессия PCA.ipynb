{
 "cells": [
  {
   "cell_type": "code",
   "execution_count": 1,
   "id": "47a4db90",
   "metadata": {},
   "outputs": [],
   "source": [
    "import numpy as np \n",
    "import pandas as pd \n",
    "from sklearn.model_selection import train_test_split \n",
    "from sklearn.preprocessing import StandardScaler\n",
    "from sklearn.decomposition import PCA \n",
    "from sklearn.ensemble import RandomForestRegressor\n",
    "from sklearn.metrics import mean_squared_error, r2_score, mean_absolute_percentage_error, mean_absolute_error\n",
    "from sklearn.linear_model import LinearRegression"
   ]
  },
  {
   "cell_type": "code",
   "execution_count": 2,
   "id": "e99219c5",
   "metadata": {},
   "outputs": [],
   "source": [
    "df = pd.read_excel(r\"C:\\Users\\55944\\Desktop\\888\\data_iqr_2.xlsx\")"
   ]
  },
  {
   "cell_type": "code",
   "execution_count": 3,
   "id": "4a126115",
   "metadata": {},
   "outputs": [],
   "source": [
    "x=df[['Соотношение матрица-наполнитель', 'Плотность, кг/м3',\n",
    "       'модуль упругости, ГПа', 'Количество отвердителя, м.%',\n",
    "       'Содержание эпоксидных групп,%_2', 'Температура вспышки, С_2',\n",
    "       'Поверхностная плотность, г/м2', 'Модуль упругости при растяжении, ГПа',\n",
    "       'Потребление смолы, г/м2',\n",
    "       'Угол нашивки', 'Шаг нашивки', 'Плотность нашивки']]\n",
    "# целевую переменную поместим в переменную y\n",
    "y=df[['Прочность при растяжении, МПа']]"
   ]
  },
  {
   "cell_type": "code",
   "execution_count": 4,
   "id": "a6923713",
   "metadata": {},
   "outputs": [],
   "source": [
    " x_train, x_test, y_train, y_test = train_test_split(x, y, test_size=0.2, random_state=0) "
   ]
  },
  {
   "cell_type": "code",
   "execution_count": 5,
   "id": "d0c07b75",
   "metadata": {},
   "outputs": [],
   "source": [
    "sc = StandardScaler() \n",
    "x_train = sc.fit_transform(x_train) \n",
    "x_test = sc.transform(x_test) "
   ]
  },
  {
   "cell_type": "markdown",
   "id": "4f4d6596",
   "metadata": {},
   "source": [
    "создаем объект PCA pca"
   ]
  },
  {
   "cell_type": "code",
   "execution_count": 6,
   "id": "d023ede3",
   "metadata": {},
   "outputs": [],
   "source": [
    "pca = PCA() \n",
    "x_train = pca.fit_transform(x_train) \n",
    "x_test = pca.transform(x_test) "
   ]
  },
  {
   "cell_type": "markdown",
   "id": "cb7991b9",
   "metadata": {},
   "source": [
    "Класс PCA содержит explained_variance_ratio_ которая возвращает дисперсию, вызванную каждым из основных компонентов. \n",
    "\n",
    " "
   ]
  },
  {
   "cell_type": "code",
   "execution_count": 7,
   "id": "cc64183f",
   "metadata": {},
   "outputs": [],
   "source": [
    "explained_variance = pca.explained_variance_ratio_"
   ]
  },
  {
   "cell_type": "code",
   "execution_count": 8,
   "id": "41139311",
   "metadata": {},
   "outputs": [
    {
     "data": {
      "text/plain": [
       "array([0.09867144, 0.09544859, 0.09433884, 0.09354006, 0.08944202,\n",
       "       0.08605946, 0.0833915 , 0.08025851, 0.07638653, 0.07320746,\n",
       "       0.06638138, 0.06287423])"
      ]
     },
     "execution_count": 8,
     "metadata": {},
     "output_type": "execute_result"
    }
   ],
   "source": [
    "explained_variance "
   ]
  },
  {
   "cell_type": "markdown",
   "id": "e5732623",
   "metadata": {},
   "source": [
    " первый главный компонент отвечает за дисперсию 9.8%. Точно так же второй главный компонент вызывает 9.5% отклонения в наборе данных,у всех 12 комонентов вкад в дисперсию  с разницей между макс. и мин. 3%.Таким образом \n",
    " метод показал значимость всех компонентов на одном уровне."
   ]
  }
 ],
 "metadata": {
  "kernelspec": {
   "display_name": "Python 3 (ipykernel)",
   "language": "python",
   "name": "python3"
  },
  "language_info": {
   "codemirror_mode": {
    "name": "ipython",
    "version": 3
   },
   "file_extension": ".py",
   "mimetype": "text/x-python",
   "name": "python",
   "nbconvert_exporter": "python",
   "pygments_lexer": "ipython3",
   "version": "3.9.13"
  }
 },
 "nbformat": 4,
 "nbformat_minor": 5
}
