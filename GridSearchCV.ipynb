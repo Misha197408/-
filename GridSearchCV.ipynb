{
 "cells": [
  {
   "cell_type": "code",
   "execution_count": 1,
   "id": "72b791ff",
   "metadata": {},
   "outputs": [],
   "source": [
    "import numpy as np\n",
    "import pandas as pd\n",
    "import matplotlib.pyplot as plt\n",
    "import seaborn as sns\n",
    "import plotly.express as px\n",
    "import tensorflow as tf\n",
    "from sklearn.pipeline import make_pipeline, Pipeline\n",
    "from sklearn import preprocessing\n",
    "from sklearn.preprocessing import Normalizer, LabelEncoder, MinMaxScaler, StandardScaler\n",
    "from sklearn import linear_model\n",
    "from sklearn.ensemble import RandomForestRegressor, GradientBoostingRegressor\n",
    "from sklearn.linear_model import LinearRegression, LogisticRegression, SGDRegressor\n",
    "from sklearn.metrics import mean_squared_error, r2_score, explained_variance_score, mean_absolute_error\n",
    "from sklearn.model_selection import train_test_split, GridSearchCV, KFold, cross_val_score,RepeatedKFold\n",
    "from sklearn.neighbors import KNeighborsRegressor\n",
    "from sklearn.neural_network import MLPRegressor\n",
    "from sklearn.svm import SVR\n",
    "from sklearn.tree import DecisionTreeRegressor\n",
    "from xgboost import XGBRegressor\n",
    "from sklearn.linear_model import ElasticNetCV\n",
    "from sklearn.linear_model import RidgeCV\n",
    "from sklearn.linear_model import LassoCV\n",
    "from sklearn import set_config\n",
    "from time import time\n",
    "import warnings\n",
    "warnings.filterwarnings(\"ignore\")"
   ]
  },
  {
   "cell_type": "markdown",
   "id": "3e60146d",
   "metadata": {},
   "source": [
    "Загружаем таблицу с локального сервера.Таблица очищена от выбросов,проверена на наличие пропусков и повторений,все данные имеют числовую характеристику. "
   ]
  },
  {
   "cell_type": "code",
   "execution_count": 2,
   "id": "6075e79d",
   "metadata": {},
   "outputs": [
    {
     "data": {
      "text/html": [
       "<div>\n",
       "<style scoped>\n",
       "    .dataframe tbody tr th:only-of-type {\n",
       "        vertical-align: middle;\n",
       "    }\n",
       "\n",
       "    .dataframe tbody tr th {\n",
       "        vertical-align: top;\n",
       "    }\n",
       "\n",
       "    .dataframe thead th {\n",
       "        text-align: right;\n",
       "    }\n",
       "</style>\n",
       "<table border=\"1\" class=\"dataframe\">\n",
       "  <thead>\n",
       "    <tr style=\"text-align: right;\">\n",
       "      <th></th>\n",
       "      <th>Соотношение матрица-наполнитель</th>\n",
       "      <th>Плотность, кг/м3</th>\n",
       "      <th>модуль упругости, ГПа</th>\n",
       "      <th>Количество отвердителя, м.%</th>\n",
       "      <th>Содержание эпоксидных групп,%_2</th>\n",
       "      <th>Температура вспышки, С_2</th>\n",
       "      <th>Поверхностная плотность, г/м2</th>\n",
       "      <th>Модуль упругости при растяжении, ГПа</th>\n",
       "      <th>Прочность при растяжении, МПа</th>\n",
       "      <th>Потребление смолы, г/м2</th>\n",
       "      <th>Угол нашивки</th>\n",
       "      <th>Шаг нашивки</th>\n",
       "      <th>Плотность нашивки</th>\n",
       "    </tr>\n",
       "  </thead>\n",
       "  <tbody>\n",
       "    <tr>\n",
       "      <th>0</th>\n",
       "      <td>1.857143</td>\n",
       "      <td>2030.0</td>\n",
       "      <td>738.736842</td>\n",
       "      <td>50.00</td>\n",
       "      <td>23.750000</td>\n",
       "      <td>284.615385</td>\n",
       "      <td>210.0</td>\n",
       "      <td>70.0</td>\n",
       "      <td>3000.0</td>\n",
       "      <td>220.0</td>\n",
       "      <td>0</td>\n",
       "      <td>4.0</td>\n",
       "      <td>60.0</td>\n",
       "    </tr>\n",
       "    <tr>\n",
       "      <th>1</th>\n",
       "      <td>1.857143</td>\n",
       "      <td>2030.0</td>\n",
       "      <td>738.736842</td>\n",
       "      <td>129.00</td>\n",
       "      <td>21.250000</td>\n",
       "      <td>300.000000</td>\n",
       "      <td>210.0</td>\n",
       "      <td>70.0</td>\n",
       "      <td>3000.0</td>\n",
       "      <td>220.0</td>\n",
       "      <td>0</td>\n",
       "      <td>5.0</td>\n",
       "      <td>47.0</td>\n",
       "    </tr>\n",
       "    <tr>\n",
       "      <th>2</th>\n",
       "      <td>2.771331</td>\n",
       "      <td>2030.0</td>\n",
       "      <td>753.000000</td>\n",
       "      <td>111.86</td>\n",
       "      <td>22.267857</td>\n",
       "      <td>284.615385</td>\n",
       "      <td>210.0</td>\n",
       "      <td>70.0</td>\n",
       "      <td>3000.0</td>\n",
       "      <td>220.0</td>\n",
       "      <td>0</td>\n",
       "      <td>5.0</td>\n",
       "      <td>57.0</td>\n",
       "    </tr>\n",
       "    <tr>\n",
       "      <th>3</th>\n",
       "      <td>2.767918</td>\n",
       "      <td>2000.0</td>\n",
       "      <td>748.000000</td>\n",
       "      <td>111.86</td>\n",
       "      <td>22.267857</td>\n",
       "      <td>284.615385</td>\n",
       "      <td>210.0</td>\n",
       "      <td>70.0</td>\n",
       "      <td>3000.0</td>\n",
       "      <td>220.0</td>\n",
       "      <td>0</td>\n",
       "      <td>5.0</td>\n",
       "      <td>60.0</td>\n",
       "    </tr>\n",
       "    <tr>\n",
       "      <th>4</th>\n",
       "      <td>2.569620</td>\n",
       "      <td>1910.0</td>\n",
       "      <td>807.000000</td>\n",
       "      <td>111.86</td>\n",
       "      <td>22.267857</td>\n",
       "      <td>284.615385</td>\n",
       "      <td>210.0</td>\n",
       "      <td>70.0</td>\n",
       "      <td>3000.0</td>\n",
       "      <td>220.0</td>\n",
       "      <td>0</td>\n",
       "      <td>5.0</td>\n",
       "      <td>70.0</td>\n",
       "    </tr>\n",
       "  </tbody>\n",
       "</table>\n",
       "</div>"
      ],
      "text/plain": [
       "   Соотношение матрица-наполнитель  Плотность, кг/м3  модуль упругости, ГПа  \\\n",
       "0                         1.857143            2030.0             738.736842   \n",
       "1                         1.857143            2030.0             738.736842   \n",
       "2                         2.771331            2030.0             753.000000   \n",
       "3                         2.767918            2000.0             748.000000   \n",
       "4                         2.569620            1910.0             807.000000   \n",
       "\n",
       "   Количество отвердителя, м.%  Содержание эпоксидных групп,%_2  \\\n",
       "0                        50.00                        23.750000   \n",
       "1                       129.00                        21.250000   \n",
       "2                       111.86                        22.267857   \n",
       "3                       111.86                        22.267857   \n",
       "4                       111.86                        22.267857   \n",
       "\n",
       "   Температура вспышки, С_2  Поверхностная плотность, г/м2  \\\n",
       "0                284.615385                          210.0   \n",
       "1                300.000000                          210.0   \n",
       "2                284.615385                          210.0   \n",
       "3                284.615385                          210.0   \n",
       "4                284.615385                          210.0   \n",
       "\n",
       "   Модуль упругости при растяжении, ГПа  Прочность при растяжении, МПа  \\\n",
       "0                                  70.0                         3000.0   \n",
       "1                                  70.0                         3000.0   \n",
       "2                                  70.0                         3000.0   \n",
       "3                                  70.0                         3000.0   \n",
       "4                                  70.0                         3000.0   \n",
       "\n",
       "   Потребление смолы, г/м2  Угол нашивки  Шаг нашивки  Плотность нашивки  \n",
       "0                    220.0             0          4.0               60.0  \n",
       "1                    220.0             0          5.0               47.0  \n",
       "2                    220.0             0          5.0               57.0  \n",
       "3                    220.0             0          5.0               60.0  \n",
       "4                    220.0             0          5.0               70.0  "
      ]
     },
     "execution_count": 2,
     "metadata": {},
     "output_type": "execute_result"
    }
   ],
   "source": [
    "df = pd.read_excel(r\"C:\\Users\\55944\\Desktop\\888\\data_iqr_2.xlsx\")\n",
    "df.drop(['Unnamed: 0'], axis=1, inplace=True)\n",
    "df.head(5)"
   ]
  },
  {
   "cell_type": "code",
   "execution_count": 3,
   "id": "e7b5407c",
   "metadata": {},
   "outputs": [],
   "source": [
    "columns = ['Соотношение матрица-наполнитель', 'Плотность, кг/м3',\n",
    "       'модуль упругости, ГПа', 'Количество отвердителя, м.%',\n",
    "       'Содержание эпоксидных групп,%_2', 'Температура вспышки, С_2',\n",
    "       'Поверхностная плотность, г/м2', 'Модуль упругости при растяжении, ГПа','Потребление смолы', 'Угол нашивки',\n",
    "       'Шаг нашивки', 'Плотность нашивки','Прочность при растяжении, МПа']"
   ]
  },
  {
   "cell_type": "code",
   "execution_count": 4,
   "id": "b0753ca0",
   "metadata": {},
   "outputs": [
    {
     "data": {
      "text/plain": [
       "Index(['Соотношение матрица-наполнитель', 'Плотность, кг/м3',\n",
       "       'модуль упругости, ГПа', 'Количество отвердителя, м.%',\n",
       "       'Содержание эпоксидных групп,%_2', 'Температура вспышки, С_2',\n",
       "       'Поверхностная плотность, г/м2', 'Модуль упругости при растяжении, ГПа',\n",
       "       'Прочность при растяжении, МПа', 'Потребление смолы, г/м2',\n",
       "       'Угол нашивки', 'Шаг нашивки', 'Плотность нашивки'],\n",
       "      dtype='object')"
      ]
     },
     "execution_count": 4,
     "metadata": {},
     "output_type": "execute_result"
    }
   ],
   "source": [
    "df.columns"
   ]
  },
  {
   "cell_type": "code",
   "execution_count": 5,
   "id": "1509a382",
   "metadata": {},
   "outputs": [
    {
     "data": {
      "text/plain": [
       "array([[4.98991831e-04, 5.45436455e-01, 1.98489657e-01, 1.34343955e-02,\n",
       "        6.38133784e-03, 7.64727126e-02, 5.64244609e-02, 1.88081536e-02,\n",
       "        8.06063727e-01, 5.91113400e-02, 0.00000000e+00, 1.07475164e-03,\n",
       "        1.61212745e-02]])"
      ]
     },
     "execution_count": 5,
     "metadata": {},
     "output_type": "execute_result"
    }
   ],
   "source": [
    "#Нормализуем данные с помощью Normalizer,нормализация по столбцам\n",
    "#создаем переменную \n",
    "norm_scaler=Normalizer()\n",
    "df_norm=norm_scaler.fit_transform(np.array(df[['Соотношение матрица-наполнитель','Плотность, кг/м3','модуль упругости, ГПа','Количество отвердителя, м.%','Содержание эпоксидных групп,%_2','Температура вспышки, С_2','Поверхностная плотность, г/м2','Модуль упругости при растяжении, ГПа','Прочность при растяжении, МПа','Потребление смолы, г/м2','Угол нашивки','Шаг нашивки','Плотность нашивки']]))\n",
    "df_norm[:1]"
   ]
  },
  {
   "cell_type": "code",
   "execution_count": 6,
   "id": "c6b166a0",
   "metadata": {},
   "outputs": [
    {
     "data": {
      "text/html": [
       "<div>\n",
       "<style scoped>\n",
       "    .dataframe tbody tr th:only-of-type {\n",
       "        vertical-align: middle;\n",
       "    }\n",
       "\n",
       "    .dataframe tbody tr th {\n",
       "        vertical-align: top;\n",
       "    }\n",
       "\n",
       "    .dataframe thead th {\n",
       "        text-align: right;\n",
       "    }\n",
       "</style>\n",
       "<table border=\"1\" class=\"dataframe\">\n",
       "  <thead>\n",
       "    <tr style=\"text-align: right;\">\n",
       "      <th></th>\n",
       "      <th>Соотношение матрица-наполнитель</th>\n",
       "      <th>Плотность, кг/м3</th>\n",
       "      <th>модуль упругости, ГПа</th>\n",
       "      <th>Количество отвердителя, м.%</th>\n",
       "      <th>Содержание эпоксидных групп,%_2</th>\n",
       "      <th>Температура вспышки, С_2</th>\n",
       "      <th>Поверхностная плотность, г/м2</th>\n",
       "      <th>Модуль упругости при растяжении, ГПа</th>\n",
       "      <th>Прочность при растяжении, МПа</th>\n",
       "      <th>Потребление смолы</th>\n",
       "      <th>Угол нашивки</th>\n",
       "      <th>Шаг нашивки</th>\n",
       "      <th>Плотность нашивки</th>\n",
       "    </tr>\n",
       "  </thead>\n",
       "  <tbody>\n",
       "    <tr>\n",
       "      <th>0</th>\n",
       "      <td>0.000499</td>\n",
       "      <td>0.545436</td>\n",
       "      <td>0.198490</td>\n",
       "      <td>0.013434</td>\n",
       "      <td>0.006381</td>\n",
       "      <td>0.076473</td>\n",
       "      <td>0.056424</td>\n",
       "      <td>0.018808</td>\n",
       "      <td>0.806064</td>\n",
       "      <td>0.059111</td>\n",
       "      <td>0.000000</td>\n",
       "      <td>0.001075</td>\n",
       "      <td>0.016121</td>\n",
       "    </tr>\n",
       "    <tr>\n",
       "      <th>1</th>\n",
       "      <td>0.000499</td>\n",
       "      <td>0.545011</td>\n",
       "      <td>0.198335</td>\n",
       "      <td>0.034634</td>\n",
       "      <td>0.005705</td>\n",
       "      <td>0.080543</td>\n",
       "      <td>0.056380</td>\n",
       "      <td>0.018793</td>\n",
       "      <td>0.805435</td>\n",
       "      <td>0.059065</td>\n",
       "      <td>0.000000</td>\n",
       "      <td>0.001342</td>\n",
       "      <td>0.012618</td>\n",
       "    </tr>\n",
       "    <tr>\n",
       "      <th>2</th>\n",
       "      <td>0.000744</td>\n",
       "      <td>0.544829</td>\n",
       "      <td>0.202097</td>\n",
       "      <td>0.030022</td>\n",
       "      <td>0.005976</td>\n",
       "      <td>0.076388</td>\n",
       "      <td>0.056362</td>\n",
       "      <td>0.018787</td>\n",
       "      <td>0.805167</td>\n",
       "      <td>0.059046</td>\n",
       "      <td>0.000000</td>\n",
       "      <td>0.001342</td>\n",
       "      <td>0.015298</td>\n",
       "    </tr>\n",
       "    <tr>\n",
       "      <th>3</th>\n",
       "      <td>0.000746</td>\n",
       "      <td>0.539271</td>\n",
       "      <td>0.201687</td>\n",
       "      <td>0.030161</td>\n",
       "      <td>0.006004</td>\n",
       "      <td>0.076742</td>\n",
       "      <td>0.056623</td>\n",
       "      <td>0.018874</td>\n",
       "      <td>0.808906</td>\n",
       "      <td>0.059320</td>\n",
       "      <td>0.000000</td>\n",
       "      <td>0.001348</td>\n",
       "      <td>0.016178</td>\n",
       "    </tr>\n",
       "    <tr>\n",
       "      <th>4</th>\n",
       "      <td>0.000699</td>\n",
       "      <td>0.519919</td>\n",
       "      <td>0.219673</td>\n",
       "      <td>0.030449</td>\n",
       "      <td>0.006062</td>\n",
       "      <td>0.077475</td>\n",
       "      <td>0.057164</td>\n",
       "      <td>0.019055</td>\n",
       "      <td>0.816627</td>\n",
       "      <td>0.059886</td>\n",
       "      <td>0.000000</td>\n",
       "      <td>0.001361</td>\n",
       "      <td>0.019055</td>\n",
       "    </tr>\n",
       "    <tr>\n",
       "      <th>...</th>\n",
       "      <td>...</td>\n",
       "      <td>...</td>\n",
       "      <td>...</td>\n",
       "      <td>...</td>\n",
       "      <td>...</td>\n",
       "      <td>...</td>\n",
       "      <td>...</td>\n",
       "      <td>...</td>\n",
       "      <td>...</td>\n",
       "      <td>...</td>\n",
       "      <td>...</td>\n",
       "      <td>...</td>\n",
       "      <td>...</td>\n",
       "    </tr>\n",
       "    <tr>\n",
       "      <th>917</th>\n",
       "      <td>0.000700</td>\n",
       "      <td>0.601751</td>\n",
       "      <td>0.281397</td>\n",
       "      <td>0.026816</td>\n",
       "      <td>0.006203</td>\n",
       "      <td>0.100115</td>\n",
       "      <td>0.064488</td>\n",
       "      <td>0.022531</td>\n",
       "      <td>0.735908</td>\n",
       "      <td>0.038535</td>\n",
       "      <td>0.000308</td>\n",
       "      <td>0.002798</td>\n",
       "      <td>0.014494</td>\n",
       "    </tr>\n",
       "    <tr>\n",
       "      <th>918</th>\n",
       "      <td>0.001078</td>\n",
       "      <td>0.641795</td>\n",
       "      <td>0.139227</td>\n",
       "      <td>0.045701</td>\n",
       "      <td>0.006136</td>\n",
       "      <td>0.079584</td>\n",
       "      <td>0.109777</td>\n",
       "      <td>0.022828</td>\n",
       "      <td>0.738938</td>\n",
       "      <td>0.036856</td>\n",
       "      <td>0.000313</td>\n",
       "      <td>0.003308</td>\n",
       "      <td>0.016827</td>\n",
       "    </tr>\n",
       "    <tr>\n",
       "      <th>919</th>\n",
       "      <td>0.000953</td>\n",
       "      <td>0.573123</td>\n",
       "      <td>0.121122</td>\n",
       "      <td>0.032118</td>\n",
       "      <td>0.006961</td>\n",
       "      <td>0.072186</td>\n",
       "      <td>0.215067</td>\n",
       "      <td>0.021716</td>\n",
       "      <td>0.773775</td>\n",
       "      <td>0.068752</td>\n",
       "      <td>0.000291</td>\n",
       "      <td>0.001209</td>\n",
       "      <td>0.019652</td>\n",
       "    </tr>\n",
       "    <tr>\n",
       "      <th>920</th>\n",
       "      <td>0.001192</td>\n",
       "      <td>0.664667</td>\n",
       "      <td>0.238453</td>\n",
       "      <td>0.045473</td>\n",
       "      <td>0.006190</td>\n",
       "      <td>0.088689</td>\n",
       "      <td>0.206291</td>\n",
       "      <td>0.023812</td>\n",
       "      <td>0.666248</td>\n",
       "      <td>0.063394</td>\n",
       "      <td>0.000322</td>\n",
       "      <td>0.002030</td>\n",
       "      <td>0.018736</td>\n",
       "    </tr>\n",
       "    <tr>\n",
       "      <th>921</th>\n",
       "      <td>0.001071</td>\n",
       "      <td>0.531728</td>\n",
       "      <td>0.117381</td>\n",
       "      <td>0.036336</td>\n",
       "      <td>0.007728</td>\n",
       "      <td>0.084651</td>\n",
       "      <td>0.213418</td>\n",
       "      <td>0.020902</td>\n",
       "      <td>0.803417</td>\n",
       "      <td>0.054780</td>\n",
       "      <td>0.000281</td>\n",
       "      <td>0.001710</td>\n",
       "      <td>0.021780</td>\n",
       "    </tr>\n",
       "  </tbody>\n",
       "</table>\n",
       "<p>922 rows × 13 columns</p>\n",
       "</div>"
      ],
      "text/plain": [
       "     Соотношение матрица-наполнитель  Плотность, кг/м3  модуль упругости, ГПа  \\\n",
       "0                           0.000499          0.545436               0.198490   \n",
       "1                           0.000499          0.545011               0.198335   \n",
       "2                           0.000744          0.544829               0.202097   \n",
       "3                           0.000746          0.539271               0.201687   \n",
       "4                           0.000699          0.519919               0.219673   \n",
       "..                               ...               ...                    ...   \n",
       "917                         0.000700          0.601751               0.281397   \n",
       "918                         0.001078          0.641795               0.139227   \n",
       "919                         0.000953          0.573123               0.121122   \n",
       "920                         0.001192          0.664667               0.238453   \n",
       "921                         0.001071          0.531728               0.117381   \n",
       "\n",
       "     Количество отвердителя, м.%  Содержание эпоксидных групп,%_2  \\\n",
       "0                       0.013434                         0.006381   \n",
       "1                       0.034634                         0.005705   \n",
       "2                       0.030022                         0.005976   \n",
       "3                       0.030161                         0.006004   \n",
       "4                       0.030449                         0.006062   \n",
       "..                           ...                              ...   \n",
       "917                     0.026816                         0.006203   \n",
       "918                     0.045701                         0.006136   \n",
       "919                     0.032118                         0.006961   \n",
       "920                     0.045473                         0.006190   \n",
       "921                     0.036336                         0.007728   \n",
       "\n",
       "     Температура вспышки, С_2  Поверхностная плотность, г/м2  \\\n",
       "0                    0.076473                       0.056424   \n",
       "1                    0.080543                       0.056380   \n",
       "2                    0.076388                       0.056362   \n",
       "3                    0.076742                       0.056623   \n",
       "4                    0.077475                       0.057164   \n",
       "..                        ...                            ...   \n",
       "917                  0.100115                       0.064488   \n",
       "918                  0.079584                       0.109777   \n",
       "919                  0.072186                       0.215067   \n",
       "920                  0.088689                       0.206291   \n",
       "921                  0.084651                       0.213418   \n",
       "\n",
       "     Модуль упругости при растяжении, ГПа  Прочность при растяжении, МПа  \\\n",
       "0                                0.018808                       0.806064   \n",
       "1                                0.018793                       0.805435   \n",
       "2                                0.018787                       0.805167   \n",
       "3                                0.018874                       0.808906   \n",
       "4                                0.019055                       0.816627   \n",
       "..                                    ...                            ...   \n",
       "917                              0.022531                       0.735908   \n",
       "918                              0.022828                       0.738938   \n",
       "919                              0.021716                       0.773775   \n",
       "920                              0.023812                       0.666248   \n",
       "921                              0.020902                       0.803417   \n",
       "\n",
       "     Потребление смолы  Угол нашивки  Шаг нашивки  Плотность нашивки  \n",
       "0             0.059111      0.000000     0.001075           0.016121  \n",
       "1             0.059065      0.000000     0.001342           0.012618  \n",
       "2             0.059046      0.000000     0.001342           0.015298  \n",
       "3             0.059320      0.000000     0.001348           0.016178  \n",
       "4             0.059886      0.000000     0.001361           0.019055  \n",
       "..                 ...           ...          ...                ...  \n",
       "917           0.038535      0.000308     0.002798           0.014494  \n",
       "918           0.036856      0.000313     0.003308           0.016827  \n",
       "919           0.068752      0.000291     0.001209           0.019652  \n",
       "920           0.063394      0.000322     0.002030           0.018736  \n",
       "921           0.054780      0.000281     0.001710           0.021780  \n",
       "\n",
       "[922 rows x 13 columns]"
      ]
     },
     "execution_count": 6,
     "metadata": {},
     "output_type": "execute_result"
    }
   ],
   "source": [
    "#возвращаем названия столбцов,нормализованную матрицу\n",
    "df_norm=pd.DataFrame(data=df_norm,columns=['Соотношение матрица-наполнитель','Плотность, кг/м3','модуль упругости, ГПа','Количество отвердителя, м.%','Содержание эпоксидных групп,%_2','Температура вспышки, С_2','Поверхностная плотность, г/м2','Модуль упругости при растяжении, ГПа','Прочность при растяжении, МПа','Потребление смолы','Угол нашивки','Шаг нашивки','Плотность нашивки'])\n",
    "df_norm"
   ]
  },
  {
   "cell_type": "code",
   "execution_count": 7,
   "id": "a56f744e",
   "metadata": {},
   "outputs": [
    {
     "data": {
      "text/plain": [
       "Index(['Соотношение матрица-наполнитель', 'Плотность, кг/м3',\n",
       "       'модуль упругости, ГПа', 'Количество отвердителя, м.%',\n",
       "       'Содержание эпоксидных групп,%_2', 'Температура вспышки, С_2',\n",
       "       'Поверхностная плотность, г/м2', 'Модуль упругости при растяжении, ГПа',\n",
       "       'Прочность при растяжении, МПа', 'Потребление смолы', 'Угол нашивки',\n",
       "       'Шаг нашивки', 'Плотность нашивки'],\n",
       "      dtype='object')"
      ]
     },
     "execution_count": 7,
     "metadata": {},
     "output_type": "execute_result"
    }
   ],
   "source": [
    "df_norm.columns"
   ]
  },
  {
   "cell_type": "code",
   "execution_count": 8,
   "id": "06b48edd",
   "metadata": {},
   "outputs": [],
   "source": [
    "# отберем признаки и поместим их в переменную X\n",
    "x=df_norm[['Соотношение матрица-наполнитель', 'Плотность, кг/м3',\n",
    "       'модуль упругости, ГПа', 'Количество отвердителя, м.%',\n",
    "       'Содержание эпоксидных групп,%_2', 'Температура вспышки, С_2',\n",
    "       'Поверхностная плотность, г/м2', 'Модуль упругости при растяжении, ГПа',\n",
    "        'Потребление смолы', 'Угол нашивки',\n",
    "       'Шаг нашивки', 'Плотность нашивки']]\n",
    "# целевую переменную поместим в переменную y\n",
    "y=df_norm[['Прочность при растяжении, МПа']]"
   ]
  },
  {
   "cell_type": "code",
   "execution_count": 9,
   "id": "71004476",
   "metadata": {},
   "outputs": [],
   "source": [
    "# разобьем данные на обучающую и тестовую выборку\n",
    "# размер тестовой выборки составит 30%\n",
    "# также зададим точку отсчета для воспроизводимости\n",
    "x_train, x_test, y_train, y_test = train_test_split(x, y, \n",
    "                                                    test_size = 0.3, \n",
    "                                                    random_state = 42)"
   ]
  },
  {
   "cell_type": "markdown",
   "id": "8f266acc",
   "metadata": {},
   "source": [
    "# Настройка гиперпараметров на одной модели – Регрессия"
   ]
  },
  {
   "cell_type": "markdown",
   "id": "06e2648b",
   "metadata": {},
   "source": [
    "Определяем модель"
   ]
  },
  {
   "cell_type": "code",
   "execution_count": 10,
   "id": "0278ae9e",
   "metadata": {},
   "outputs": [
    {
     "data": {
      "text/plain": [
       "GradientBoostingRegressor(random_state=0)"
      ]
     },
     "execution_count": 10,
     "metadata": {},
     "output_type": "execute_result"
    }
   ],
   "source": [
    "regressor_GBR = GradientBoostingRegressor( random_state=0)\n",
    "regressor_GBR.fit(x_train, y_train)"
   ]
  },
  {
   "cell_type": "code",
   "execution_count": 11,
   "id": "19beb416",
   "metadata": {},
   "outputs": [],
   "source": [
    "y_pred_GBR_1 = regressor_GBR.predict(x_test)"
   ]
  },
  {
   "cell_type": "markdown",
   "id": "1de3bbe4",
   "metadata": {},
   "source": [
    "Смотрим результаты по умолчанию"
   ]
  },
  {
   "cell_type": "code",
   "execution_count": 12,
   "id": "fb2144f4",
   "metadata": {},
   "outputs": [
    {
     "name": "stdout",
     "output_type": "stream",
     "text": [
      "Mean Absolute Error: 0.006709427624578945\n",
      "Mean Squared Error: 0.00011572435680689517\n",
      "Root Mean Squared Error: 0.010757525589413914\n",
      "R Squared: 0.9776104293644631\n",
      "Train score: 1.00\n",
      "Test score: 0.98\n"
     ]
    }
   ],
   "source": [
    "print('Mean Absolute Error:', mean_absolute_error(y_test, y_pred_GBR_1))\n",
    "print('Mean Squared Error:', mean_squared_error(y_test, y_pred_GBR_1))\n",
    "print('Root Mean Squared Error:', np.sqrt(mean_squared_error(y_test, y_pred_GBR_1)))\n",
    "print ('R Squared:', r2_score(y_test, y_pred_GBR_1))\n",
    "print(\"Train score: {:.2f}\".format(regressor_GBR.score(x_train, y_train)))\n",
    "print(\"Test score: {:.2f}\".format(regressor_GBR.score(x_test, y_test)))"
   ]
  },
  {
   "cell_type": "markdown",
   "id": "b92b0cdc",
   "metadata": {},
   "source": [
    "Метрики  регрессии показывают хорошие  результаты"
   ]
  },
  {
   "cell_type": "markdown",
   "id": "fb2f7107",
   "metadata": {},
   "source": [
    "Прописываем параметры для нашей модели"
   ]
  },
  {
   "cell_type": "code",
   "execution_count": 13,
   "id": "fe0a18cb",
   "metadata": {},
   "outputs": [],
   "source": [
    "params = {'n_estimators':200,\n",
    "          'max_depth':12,\n",
    "          'criterion':'mse',\n",
    "          'learning_rate':0.03,\n",
    "          'min_samples_leaf':16,\n",
    "          'min_samples_split':16\n",
    "          }"
   ]
  },
  {
   "cell_type": "markdown",
   "id": "e044d7b8",
   "metadata": {},
   "source": [
    "Тренируем"
   ]
  },
  {
   "cell_type": "code",
   "execution_count": 14,
   "id": "4bdd670b",
   "metadata": {},
   "outputs": [
    {
     "data": {
      "text/plain": [
       "GradientBoostingRegressor(criterion='mse', learning_rate=0.03, max_depth=12,\n",
       "                          min_samples_leaf=16, min_samples_split=16,\n",
       "                          n_estimators=200)"
      ]
     },
     "execution_count": 14,
     "metadata": {},
     "output_type": "execute_result"
    }
   ],
   "source": [
    "gbr = GradientBoostingRegressor(**params)\n",
    "gbr.fit(x_train,y_train)"
   ]
  },
  {
   "cell_type": "code",
   "execution_count": 15,
   "id": "7686431c",
   "metadata": {},
   "outputs": [],
   "source": [
    "y_pred = gbr.predict(x_test)"
   ]
  },
  {
   "cell_type": "code",
   "execution_count": 16,
   "id": "8a0f33c3",
   "metadata": {},
   "outputs": [
    {
     "name": "stdout",
     "output_type": "stream",
     "text": [
      "Mean Absolute Error: 0.007693022633230924\n",
      "Mean Squared Error: 0.00018300389178685643\n",
      "Root Mean Squared Error: 0.013527893102285235\n",
      "R Squared: 0.9645936372013965\n",
      "Train score: 1.00\n",
      "Test score: 0.98\n"
     ]
    }
   ],
   "source": [
    "print('Mean Absolute Error:', mean_absolute_error(y_test, y_pred))\n",
    "print('Mean Squared Error:', mean_squared_error(y_test, y_pred))\n",
    "print('Root Mean Squared Error:', np.sqrt(mean_squared_error(y_test, y_pred)))\n",
    "print ('R Squared:', r2_score(y_test, y_pred))\n",
    "print(\"Train score: {:.2f}\".format(regressor_GBR.score(x_train, y_train)))\n",
    "print(\"Test score: {:.2f}\".format(regressor_GBR.score(x_test, y_test)))"
   ]
  },
  {
   "cell_type": "markdown",
   "id": "e08dd316",
   "metadata": {},
   "source": [
    "Параметры оценки  по метрикам регрессии несколко ухудшились относительно модели с \n",
    " параметрами  по умолчанию."
   ]
  },
  {
   "cell_type": "code",
   "execution_count": null,
   "id": "cf542e0b",
   "metadata": {},
   "outputs": [],
   "source": []
  },
  {
   "cell_type": "markdown",
   "id": "562d76a9",
   "metadata": {},
   "source": [
    "Определяем параметры  по которым будет обучаться модель и из списка которых будут\n",
    "рекомендоваться наилучшие.Поиск гиперепараметров."
   ]
  },
  {
   "cell_type": "code",
   "execution_count": 17,
   "id": "180b1048",
   "metadata": {},
   "outputs": [],
   "source": [
    "parameters = { 'loss' : ['ls', 'lad', 'huber', 'quantile'],\n",
    "          'learning_rate' : (0.05,0.25,0.50,1),\n",
    "          'criterion' : ['friedman_mse', 'mse', 'mae'],\n",
    "          'max_features' : ['auto', 'sqrt', 'log2']\n",
    "        }"
   ]
  },
  {
   "cell_type": "markdown",
   "id": "dc25f717",
   "metadata": {},
   "source": [
    "Подставляем параметры в модель и обучаем"
   ]
  },
  {
   "cell_type": "code",
   "execution_count": 19,
   "id": "55534036",
   "metadata": {},
   "outputs": [
    {
     "name": "stdout",
     "output_type": "stream",
     "text": [
      "{'criterion': 'mae', 'learning_rate': 0.25, 'loss': 'ls', 'max_features': 'auto'} \n",
      "\n",
      "GradientBoostingRegressor(criterion='mae', learning_rate=0.25, loss='ls',\n",
      "                          max_features='auto') \n",
      "\n"
     ]
    }
   ],
   "source": [
    "grid_1 = GridSearchCV(GradientBoostingRegressor(),parameters)\n",
    "model_1 = grid_1.fit(x,y)\n",
    "print(model_1.best_params_,'\\n')\n",
    "print(model_1.best_estimator_,'\\n')"
   ]
  },
  {
   "cell_type": "markdown",
   "id": "0ac30a54",
   "metadata": {},
   "source": [
    "Подставляем наилучшие параметры в выбранный алгоритм"
   ]
  },
  {
   "cell_type": "code",
   "execution_count": 20,
   "id": "07732cb1",
   "metadata": {},
   "outputs": [
    {
     "data": {
      "text/plain": [
       "GradientBoostingRegressor(criterion='mae', learning_rate=0.25, loss='ls',\n",
       "                          max_features='auto')"
      ]
     },
     "execution_count": 20,
     "metadata": {},
     "output_type": "execute_result"
    }
   ],
   "source": [
    "gbr_2 = GradientBoostingRegressor(criterion='mae', learning_rate=0.25, loss='ls',\n",
    "                          max_features='auto')\n",
    "gbr_2 .fit(x_train,y_train)"
   ]
  },
  {
   "cell_type": "code",
   "execution_count": 21,
   "id": "6e22df09",
   "metadata": {},
   "outputs": [],
   "source": [
    "y_pred_1 = gbr_2.predict(x_test)"
   ]
  },
  {
   "cell_type": "code",
   "execution_count": 22,
   "id": "0a1ff974",
   "metadata": {},
   "outputs": [
    {
     "name": "stdout",
     "output_type": "stream",
     "text": [
      "Mean Absolute Error: 0.007399137679394423\n",
      "Mean Squared Error: 0.00011148232479748345\n",
      "Root Mean Squared Error: 0.010558519062703985\n",
      "R Squared: 0.9784311492019595\n",
      "Train score: 1.00\n",
      "Test score: 0.98\n"
     ]
    }
   ],
   "source": [
    "print('Mean Absolute Error:', mean_absolute_error(y_test, y_pred_1))\n",
    "print('Mean Squared Error:', mean_squared_error(y_test, y_pred_1))\n",
    "print('Root Mean Squared Error:', np.sqrt(mean_squared_error(y_test, y_pred_1)))\n",
    "print ('R Squared:', r2_score(y_test, y_pred_1))\n",
    "print(\"Train score: {:.2f}\".format(gbr_2.score(x_train, y_train)))\n",
    "print(\"Test score: {:.2f}\".format(gbr_2.score(x_test, y_test)))"
   ]
  },
  {
   "cell_type": "markdown",
   "id": "90651071",
   "metadata": {},
   "source": [
    "Оценки по метрикам регрессии изменились незначительно"
   ]
  },
  {
   "cell_type": "code",
   "execution_count": null,
   "id": "96a6ef3e",
   "metadata": {},
   "outputs": [],
   "source": []
  },
  {
   "cell_type": "code",
   "execution_count": null,
   "id": "f6266635",
   "metadata": {},
   "outputs": [],
   "source": []
  },
  {
   "cell_type": "markdown",
   "id": "f6354ea9",
   "metadata": {},
   "source": [
    "# Настройка гиперпараметров на нескольких моделях – Регрессия"
   ]
  },
  {
   "cell_type": "markdown",
   "id": "dd16d96d",
   "metadata": {},
   "source": [
    "Выбор модели"
   ]
  },
  {
   "cell_type": "code",
   "execution_count": 23,
   "id": "3a2b123a",
   "metadata": {},
   "outputs": [],
   "source": [
    "regressors = [\n",
    "    KNeighborsRegressor(),\n",
    "    SVR(),\n",
    "    RidgeCV(),\n",
    "    DecisionTreeRegressor(),\n",
    "    RandomForestRegressor(),\n",
    "    GradientBoostingRegressor(),\n",
    "    LinearRegression(),\n",
    "    LassoCV()\n",
    "    ]"
   ]
  },
  {
   "cell_type": "code",
   "execution_count": 24,
   "id": "fb011ad5",
   "metadata": {
    "scrolled": true
   },
   "outputs": [
    {
     "name": "stdout",
     "output_type": "stream",
     "text": [
      "KNeighborsRegressor()\n",
      "\tTraining time: 0.003s\n",
      "\tPrediction time: 0.003s\n",
      "\tExplained variance: 0.9447512930658993\n",
      "\tMean Squared Error: 0.00029687968847148794\n",
      "\tRoot Mean Squared Error: 0.017230196994564163\n",
      "\tMean absolute error: 0.010686887211776788\n",
      "\tR2 score: 0.9425617135519692\n",
      "\n",
      "SVR()\n",
      "\tTraining time: 0.002s\n",
      "\tPrediction time: 0.002s\n",
      "\tExplained variance: 0.7216377966713026\n",
      "\tMean Squared Error: 0.003568401898160794\n",
      "\tRoot Mean Squared Error: 0.05973610213397585\n",
      "\tMean absolute error: 0.05419272296537005\n",
      "\tR2 score: 0.30960958816843764\n",
      "\n",
      "RidgeCV(alphas=array([ 0.1,  1. , 10. ]))\n",
      "\tTraining time: 0.353s\n",
      "\tPrediction time: 0.001s\n",
      "\tExplained variance: 0.9561417499425398\n",
      "\tMean Squared Error: 0.00022899822576968746\n",
      "\tRoot Mean Squared Error: 0.015132687328088408\n",
      "\tMean absolute error: 0.010694603032863395\n",
      "\tR2 score: 0.9556949626443934\n",
      "\n",
      "DecisionTreeRegressor()\n",
      "\tTraining time: 0.006s\n",
      "\tPrediction time: 0.002s\n",
      "\tExplained variance: 0.9234153605350577\n",
      "\tMean Squared Error: 0.0004031015907997828\n",
      "\tRoot Mean Squared Error: 0.020077390039539074\n",
      "\tMean absolute error: 0.015025160847073789\n",
      "\tR2 score: 0.9220106139317832\n",
      "\n",
      "RandomForestRegressor()\n",
      "\tTraining time: 0.382s\n",
      "\tPrediction time: 0.010s\n",
      "\tExplained variance: 0.9580725588121795\n",
      "\tMean Squared Error: 0.00021695654010750972\n",
      "\tRoot Mean Squared Error: 0.014729444663920963\n",
      "\tMean absolute error: 0.009144339459371388\n",
      "\tR2 score: 0.9580247070399845\n",
      "\n",
      "GradientBoostingRegressor()\n",
      "\tTraining time: 0.161s\n",
      "\tPrediction time: 0.001s\n",
      "\tExplained variance: 0.9779908780211292\n",
      "\tMean Squared Error: 0.00011382635692888923\n",
      "\tRoot Mean Squared Error: 0.010668943571361188\n",
      "\tMean absolute error: 0.00667387496982702\n",
      "\tR2 score: 0.977977641622171\n",
      "\n",
      "LinearRegression()\n",
      "\tTraining time: 0.003s\n",
      "\tPrediction time: 0.001s\n",
      "\tExplained variance: 0.9575254872804717\n",
      "\tMean Squared Error: 0.00022139948519485646\n",
      "\tRoot Mean Squared Error: 0.01487949882203216\n",
      "\tMean absolute error: 0.010929072989902875\n",
      "\tR2 score: 0.9571651158907423\n",
      "\n",
      "LassoCV()\n",
      "\tTraining time: 0.052s\n",
      "\tPrediction time: 0.001s\n",
      "\tExplained variance: 0.9579273489223473\n",
      "\tMean Squared Error: 0.00021985234386507073\n",
      "\tRoot Mean Squared Error: 0.014827418651439998\n",
      "\tMean absolute error: 0.010757445317793523\n",
      "\tR2 score: 0.9574644463950733\n",
      "\n"
     ]
    }
   ],
   "source": [
    "cv = 10\n",
    "for model in regressors[:cv]:\n",
    "    start = time()\n",
    "    model.fit(x_train, y_train)\n",
    "    train_time = time() - start\n",
    "    start = time()\n",
    "    y_pred_1 = model.predict(x_test)\n",
    "    predict_time = time()-start    \n",
    "    print(model)\n",
    "    print(\"\\tTraining time: %0.3fs\" % train_time)\n",
    "    print(\"\\tPrediction time: %0.3fs\" % predict_time)\n",
    "    print(\"\\tExplained variance:\", explained_variance_score(y_test, y_pred_1))\n",
    "    print(\"\\tMean Squared Error:\", mean_squared_error(y_test, y_pred_1))\n",
    "    print(\"\\tRoot Mean Squared Error:\", np.sqrt(mean_squared_error(y_test, y_pred_1)))\n",
    "    print(\"\\tMean absolute error:\", mean_absolute_error(y_test, y_pred_1))\n",
    "    print(\"\\tR2 score:\", r2_score(y_test, y_pred_1))\n",
    "    print()"
   ]
  },
  {
   "cell_type": "markdown",
   "id": "c01de285",
   "metadata": {},
   "source": [
    "Основная причина, по которой мы выполняем так много моделей вместе, заключается в том, чтобы определить, какая модель машинного обучения лучше всего подходит для данного конкретного набора данных.\n",
    "\n",
    "Сравнивая эти результаты, мы можем быстро увидеть, что GradientBoostingRegressor является лучшей моделью для дальнейшего изучения. Но и другие модели показали хорошие результаты.Сравнение моделей лучше производить по метрике R2 score.\n",
    "\n",
    "Предполагая, что GradientBoostingRegressor является лучшей моделью, теперь мы можем посмотреть, как выполняется настройка гиперпараметров на ней. Этот подход экономит время по сравнению с изучением каждой модели по отдельности.\n"
   ]
  },
  {
   "cell_type": "markdown",
   "id": "83319cd9",
   "metadata": {},
   "source": [
    "ПОДБОР ГИПРЕПАРАМЕТРОВ"
   ]
  },
  {
   "cell_type": "code",
   "execution_count": 25,
   "id": "9f2f281d",
   "metadata": {},
   "outputs": [],
   "source": [
    "parameters = { 'loss' : ['ls', 'lad', 'huber', 'quantile'],\n",
    "          'learning_rate' : (0.05,0.25,0.50,1),\n",
    "          'criterion' : ['friedman_mse', 'mse', 'mae'],\n",
    "          'max_features' : ['auto', 'sqrt', 'log2']\n",
    "        }"
   ]
  },
  {
   "cell_type": "code",
   "execution_count": 26,
   "id": "828807bf",
   "metadata": {},
   "outputs": [
    {
     "name": "stdout",
     "output_type": "stream",
     "text": [
      "{'criterion': 'mae', 'learning_rate': 0.25, 'loss': 'ls', 'max_features': 'auto'} \n",
      "\n",
      "GradientBoostingRegressor(criterion='mae', learning_rate=0.25, loss='ls',\n",
      "                          max_features='auto') \n",
      "\n"
     ]
    }
   ],
   "source": [
    "grid = GridSearchCV(GradientBoostingRegressor(),parameters)\n",
    "model = grid.fit(x,y)\n",
    "print(model.best_params_,'\\n')\n",
    "print(model.best_estimator_,'\\n')"
   ]
  },
  {
   "cell_type": "code",
   "execution_count": 27,
   "id": "63fc5466",
   "metadata": {},
   "outputs": [
    {
     "data": {
      "text/plain": [
       "{'criterion': 'mae',\n",
       " 'learning_rate': 0.25,\n",
       " 'loss': 'ls',\n",
       " 'max_features': 'auto'}"
      ]
     },
     "execution_count": 27,
     "metadata": {},
     "output_type": "execute_result"
    }
   ],
   "source": [
    "model.best_params_"
   ]
  },
  {
   "cell_type": "code",
   "execution_count": 28,
   "id": "8952fc66",
   "metadata": {},
   "outputs": [
    {
     "data": {
      "text/plain": [
       "GradientBoostingRegressor(criterion='mae', learning_rate=0.25, loss='ls',\n",
       "                          max_features='auto')"
      ]
     },
     "execution_count": 28,
     "metadata": {},
     "output_type": "execute_result"
    }
   ],
   "source": [
    "model.best_estimator_"
   ]
  },
  {
   "cell_type": "code",
   "execution_count": 29,
   "id": "4ac20835",
   "metadata": {},
   "outputs": [
    {
     "data": {
      "text/plain": [
       "(144, 16)"
      ]
     },
     "execution_count": 29,
     "metadata": {},
     "output_type": "execute_result"
    }
   ],
   "source": [
    "df_1 = pd.DataFrame(grid.cv_results_).set_index('rank_test_score').sort_index()\n",
    "df_1.shape"
   ]
  },
  {
   "cell_type": "code",
   "execution_count": 30,
   "id": "852a7da2",
   "metadata": {
    "scrolled": true
   },
   "outputs": [
    {
     "data": {
      "text/html": [
       "<div>\n",
       "<style scoped>\n",
       "    .dataframe tbody tr th:only-of-type {\n",
       "        vertical-align: middle;\n",
       "    }\n",
       "\n",
       "    .dataframe tbody tr th {\n",
       "        vertical-align: top;\n",
       "    }\n",
       "\n",
       "    .dataframe thead th {\n",
       "        text-align: right;\n",
       "    }\n",
       "</style>\n",
       "<table border=\"1\" class=\"dataframe\">\n",
       "  <thead>\n",
       "    <tr style=\"text-align: right;\">\n",
       "      <th></th>\n",
       "      <th>mean_fit_time</th>\n",
       "      <th>std_fit_time</th>\n",
       "      <th>mean_score_time</th>\n",
       "      <th>std_score_time</th>\n",
       "      <th>param_criterion</th>\n",
       "      <th>param_learning_rate</th>\n",
       "      <th>param_loss</th>\n",
       "      <th>param_max_features</th>\n",
       "      <th>params</th>\n",
       "      <th>split0_test_score</th>\n",
       "      <th>split1_test_score</th>\n",
       "      <th>split2_test_score</th>\n",
       "      <th>split3_test_score</th>\n",
       "      <th>split4_test_score</th>\n",
       "      <th>mean_test_score</th>\n",
       "      <th>std_test_score</th>\n",
       "    </tr>\n",
       "    <tr>\n",
       "      <th>rank_test_score</th>\n",
       "      <th></th>\n",
       "      <th></th>\n",
       "      <th></th>\n",
       "      <th></th>\n",
       "      <th></th>\n",
       "      <th></th>\n",
       "      <th></th>\n",
       "      <th></th>\n",
       "      <th></th>\n",
       "      <th></th>\n",
       "      <th></th>\n",
       "      <th></th>\n",
       "      <th></th>\n",
       "      <th></th>\n",
       "      <th></th>\n",
       "      <th></th>\n",
       "    </tr>\n",
       "  </thead>\n",
       "  <tbody>\n",
       "    <tr>\n",
       "      <th>1</th>\n",
       "      <td>3.495507</td>\n",
       "      <td>0.097376</td>\n",
       "      <td>0.002053</td>\n",
       "      <td>0.003151</td>\n",
       "      <td>mae</td>\n",
       "      <td>0.25</td>\n",
       "      <td>ls</td>\n",
       "      <td>auto</td>\n",
       "      <td>{'criterion': 'mae', 'learning_rate': 0.25, 'l...</td>\n",
       "      <td>0.980640</td>\n",
       "      <td>0.985048</td>\n",
       "      <td>0.979893</td>\n",
       "      <td>0.980488</td>\n",
       "      <td>0.981472</td>\n",
       "      <td>0.981508</td>\n",
       "      <td>0.001840</td>\n",
       "    </tr>\n",
       "    <tr>\n",
       "      <th>2</th>\n",
       "      <td>3.807433</td>\n",
       "      <td>0.094832</td>\n",
       "      <td>0.000863</td>\n",
       "      <td>0.001059</td>\n",
       "      <td>mae</td>\n",
       "      <td>0.25</td>\n",
       "      <td>huber</td>\n",
       "      <td>auto</td>\n",
       "      <td>{'criterion': 'mae', 'learning_rate': 0.25, 'l...</td>\n",
       "      <td>0.967093</td>\n",
       "      <td>0.982140</td>\n",
       "      <td>0.985194</td>\n",
       "      <td>0.973396</td>\n",
       "      <td>0.978181</td>\n",
       "      <td>0.977201</td>\n",
       "      <td>0.006417</td>\n",
       "    </tr>\n",
       "    <tr>\n",
       "      <th>3</th>\n",
       "      <td>0.197295</td>\n",
       "      <td>0.003473</td>\n",
       "      <td>0.001974</td>\n",
       "      <td>0.000030</td>\n",
       "      <td>friedman_mse</td>\n",
       "      <td>0.25</td>\n",
       "      <td>ls</td>\n",
       "      <td>auto</td>\n",
       "      <td>{'criterion': 'friedman_mse', 'learning_rate':...</td>\n",
       "      <td>0.971454</td>\n",
       "      <td>0.978664</td>\n",
       "      <td>0.980212</td>\n",
       "      <td>0.973254</td>\n",
       "      <td>0.981917</td>\n",
       "      <td>0.977100</td>\n",
       "      <td>0.004050</td>\n",
       "    </tr>\n",
       "    <tr>\n",
       "      <th>4</th>\n",
       "      <td>0.202724</td>\n",
       "      <td>0.008730</td>\n",
       "      <td>0.004019</td>\n",
       "      <td>0.004087</td>\n",
       "      <td>mse</td>\n",
       "      <td>0.25</td>\n",
       "      <td>ls</td>\n",
       "      <td>auto</td>\n",
       "      <td>{'criterion': 'mse', 'learning_rate': 0.25, 'l...</td>\n",
       "      <td>0.971695</td>\n",
       "      <td>0.978512</td>\n",
       "      <td>0.979955</td>\n",
       "      <td>0.973394</td>\n",
       "      <td>0.981530</td>\n",
       "      <td>0.977017</td>\n",
       "      <td>0.003813</td>\n",
       "    </tr>\n",
       "    <tr>\n",
       "      <th>5</th>\n",
       "      <td>0.401848</td>\n",
       "      <td>0.019555</td>\n",
       "      <td>0.000939</td>\n",
       "      <td>0.001212</td>\n",
       "      <td>friedman_mse</td>\n",
       "      <td>0.25</td>\n",
       "      <td>huber</td>\n",
       "      <td>auto</td>\n",
       "      <td>{'criterion': 'friedman_mse', 'learning_rate':...</td>\n",
       "      <td>0.965221</td>\n",
       "      <td>0.982969</td>\n",
       "      <td>0.986063</td>\n",
       "      <td>0.972238</td>\n",
       "      <td>0.977880</td>\n",
       "      <td>0.976874</td>\n",
       "      <td>0.007482</td>\n",
       "    </tr>\n",
       "    <tr>\n",
       "      <th>...</th>\n",
       "      <td>...</td>\n",
       "      <td>...</td>\n",
       "      <td>...</td>\n",
       "      <td>...</td>\n",
       "      <td>...</td>\n",
       "      <td>...</td>\n",
       "      <td>...</td>\n",
       "      <td>...</td>\n",
       "      <td>...</td>\n",
       "      <td>...</td>\n",
       "      <td>...</td>\n",
       "      <td>...</td>\n",
       "      <td>...</td>\n",
       "      <td>...</td>\n",
       "      <td>...</td>\n",
       "      <td>...</td>\n",
       "    </tr>\n",
       "    <tr>\n",
       "      <th>140</th>\n",
       "      <td>0.862427</td>\n",
       "      <td>0.024291</td>\n",
       "      <td>0.002038</td>\n",
       "      <td>0.003134</td>\n",
       "      <td>mae</td>\n",
       "      <td>1</td>\n",
       "      <td>quantile</td>\n",
       "      <td>sqrt</td>\n",
       "      <td>{'criterion': 'mae', 'learning_rate': 1, 'loss...</td>\n",
       "      <td>-0.093472</td>\n",
       "      <td>-0.240743</td>\n",
       "      <td>0.278311</td>\n",
       "      <td>0.260700</td>\n",
       "      <td>0.428857</td>\n",
       "      <td>0.126731</td>\n",
       "      <td>0.251289</td>\n",
       "    </tr>\n",
       "    <tr>\n",
       "      <th>141</th>\n",
       "      <td>3.251444</td>\n",
       "      <td>0.136325</td>\n",
       "      <td>0.004128</td>\n",
       "      <td>0.003308</td>\n",
       "      <td>mae</td>\n",
       "      <td>0.25</td>\n",
       "      <td>quantile</td>\n",
       "      <td>auto</td>\n",
       "      <td>{'criterion': 'mae', 'learning_rate': 0.25, 'l...</td>\n",
       "      <td>0.407256</td>\n",
       "      <td>0.012502</td>\n",
       "      <td>0.516587</td>\n",
       "      <td>-1.085909</td>\n",
       "      <td>0.664848</td>\n",
       "      <td>0.103057</td>\n",
       "      <td>0.632613</td>\n",
       "    </tr>\n",
       "    <tr>\n",
       "      <th>142</th>\n",
       "      <td>0.837141</td>\n",
       "      <td>0.022693</td>\n",
       "      <td>0.001273</td>\n",
       "      <td>0.001041</td>\n",
       "      <td>mae</td>\n",
       "      <td>0.05</td>\n",
       "      <td>quantile</td>\n",
       "      <td>log2</td>\n",
       "      <td>{'criterion': 'mae', 'learning_rate': 0.05, 'l...</td>\n",
       "      <td>-0.432508</td>\n",
       "      <td>-0.068413</td>\n",
       "      <td>-0.221530</td>\n",
       "      <td>0.017079</td>\n",
       "      <td>0.095306</td>\n",
       "      <td>-0.122013</td>\n",
       "      <td>0.187488</td>\n",
       "    </tr>\n",
       "    <tr>\n",
       "      <th>143</th>\n",
       "      <td>0.829296</td>\n",
       "      <td>0.006755</td>\n",
       "      <td>0.000430</td>\n",
       "      <td>0.000860</td>\n",
       "      <td>mae</td>\n",
       "      <td>0.05</td>\n",
       "      <td>quantile</td>\n",
       "      <td>sqrt</td>\n",
       "      <td>{'criterion': 'mae', 'learning_rate': 0.05, 'l...</td>\n",
       "      <td>-0.396967</td>\n",
       "      <td>-0.276081</td>\n",
       "      <td>-0.238678</td>\n",
       "      <td>-0.061375</td>\n",
       "      <td>0.180666</td>\n",
       "      <td>-0.158487</td>\n",
       "      <td>0.200792</td>\n",
       "    </tr>\n",
       "    <tr>\n",
       "      <th>144</th>\n",
       "      <td>3.122187</td>\n",
       "      <td>0.094316</td>\n",
       "      <td>0.002024</td>\n",
       "      <td>0.003146</td>\n",
       "      <td>mae</td>\n",
       "      <td>0.05</td>\n",
       "      <td>quantile</td>\n",
       "      <td>auto</td>\n",
       "      <td>{'criterion': 'mae', 'learning_rate': 0.05, 'l...</td>\n",
       "      <td>-0.642318</td>\n",
       "      <td>-0.403428</td>\n",
       "      <td>-0.292562</td>\n",
       "      <td>-0.646494</td>\n",
       "      <td>-0.204584</td>\n",
       "      <td>-0.437877</td>\n",
       "      <td>0.180026</td>\n",
       "    </tr>\n",
       "  </tbody>\n",
       "</table>\n",
       "<p>144 rows × 16 columns</p>\n",
       "</div>"
      ],
      "text/plain": [
       "                 mean_fit_time  std_fit_time  mean_score_time  std_score_time  \\\n",
       "rank_test_score                                                                 \n",
       "1                     3.495507      0.097376         0.002053        0.003151   \n",
       "2                     3.807433      0.094832         0.000863        0.001059   \n",
       "3                     0.197295      0.003473         0.001974        0.000030   \n",
       "4                     0.202724      0.008730         0.004019        0.004087   \n",
       "5                     0.401848      0.019555         0.000939        0.001212   \n",
       "...                        ...           ...              ...             ...   \n",
       "140                   0.862427      0.024291         0.002038        0.003134   \n",
       "141                   3.251444      0.136325         0.004128        0.003308   \n",
       "142                   0.837141      0.022693         0.001273        0.001041   \n",
       "143                   0.829296      0.006755         0.000430        0.000860   \n",
       "144                   3.122187      0.094316         0.002024        0.003146   \n",
       "\n",
       "                param_criterion param_learning_rate param_loss  \\\n",
       "rank_test_score                                                  \n",
       "1                           mae                0.25         ls   \n",
       "2                           mae                0.25      huber   \n",
       "3                  friedman_mse                0.25         ls   \n",
       "4                           mse                0.25         ls   \n",
       "5                  friedman_mse                0.25      huber   \n",
       "...                         ...                 ...        ...   \n",
       "140                         mae                   1   quantile   \n",
       "141                         mae                0.25   quantile   \n",
       "142                         mae                0.05   quantile   \n",
       "143                         mae                0.05   quantile   \n",
       "144                         mae                0.05   quantile   \n",
       "\n",
       "                param_max_features  \\\n",
       "rank_test_score                      \n",
       "1                             auto   \n",
       "2                             auto   \n",
       "3                             auto   \n",
       "4                             auto   \n",
       "5                             auto   \n",
       "...                            ...   \n",
       "140                           sqrt   \n",
       "141                           auto   \n",
       "142                           log2   \n",
       "143                           sqrt   \n",
       "144                           auto   \n",
       "\n",
       "                                                            params  \\\n",
       "rank_test_score                                                      \n",
       "1                {'criterion': 'mae', 'learning_rate': 0.25, 'l...   \n",
       "2                {'criterion': 'mae', 'learning_rate': 0.25, 'l...   \n",
       "3                {'criterion': 'friedman_mse', 'learning_rate':...   \n",
       "4                {'criterion': 'mse', 'learning_rate': 0.25, 'l...   \n",
       "5                {'criterion': 'friedman_mse', 'learning_rate':...   \n",
       "...                                                            ...   \n",
       "140              {'criterion': 'mae', 'learning_rate': 1, 'loss...   \n",
       "141              {'criterion': 'mae', 'learning_rate': 0.25, 'l...   \n",
       "142              {'criterion': 'mae', 'learning_rate': 0.05, 'l...   \n",
       "143              {'criterion': 'mae', 'learning_rate': 0.05, 'l...   \n",
       "144              {'criterion': 'mae', 'learning_rate': 0.05, 'l...   \n",
       "\n",
       "                 split0_test_score  split1_test_score  split2_test_score  \\\n",
       "rank_test_score                                                            \n",
       "1                         0.980640           0.985048           0.979893   \n",
       "2                         0.967093           0.982140           0.985194   \n",
       "3                         0.971454           0.978664           0.980212   \n",
       "4                         0.971695           0.978512           0.979955   \n",
       "5                         0.965221           0.982969           0.986063   \n",
       "...                            ...                ...                ...   \n",
       "140                      -0.093472          -0.240743           0.278311   \n",
       "141                       0.407256           0.012502           0.516587   \n",
       "142                      -0.432508          -0.068413          -0.221530   \n",
       "143                      -0.396967          -0.276081          -0.238678   \n",
       "144                      -0.642318          -0.403428          -0.292562   \n",
       "\n",
       "                 split3_test_score  split4_test_score  mean_test_score  \\\n",
       "rank_test_score                                                          \n",
       "1                         0.980488           0.981472         0.981508   \n",
       "2                         0.973396           0.978181         0.977201   \n",
       "3                         0.973254           0.981917         0.977100   \n",
       "4                         0.973394           0.981530         0.977017   \n",
       "5                         0.972238           0.977880         0.976874   \n",
       "...                            ...                ...              ...   \n",
       "140                       0.260700           0.428857         0.126731   \n",
       "141                      -1.085909           0.664848         0.103057   \n",
       "142                       0.017079           0.095306        -0.122013   \n",
       "143                      -0.061375           0.180666        -0.158487   \n",
       "144                      -0.646494          -0.204584        -0.437877   \n",
       "\n",
       "                 std_test_score  \n",
       "rank_test_score                  \n",
       "1                      0.001840  \n",
       "2                      0.006417  \n",
       "3                      0.004050  \n",
       "4                      0.003813  \n",
       "5                      0.007482  \n",
       "...                         ...  \n",
       "140                    0.251289  \n",
       "141                    0.632613  \n",
       "142                    0.187488  \n",
       "143                    0.200792  \n",
       "144                    0.180026  \n",
       "\n",
       "[144 rows x 16 columns]"
      ]
     },
     "execution_count": 30,
     "metadata": {},
     "output_type": "execute_result"
    }
   ],
   "source": [
    "df_1"
   ]
  },
  {
   "cell_type": "code",
   "execution_count": 31,
   "id": "31d1f87a",
   "metadata": {},
   "outputs": [
    {
     "data": {
      "text/plain": [
       "GradientBoostingRegressor(criterion='mae', learning_rate=0.25, loss='ls',\n",
       "                          max_features='auto', random_state=0)"
      ]
     },
     "execution_count": 31,
     "metadata": {},
     "output_type": "execute_result"
    }
   ],
   "source": [
    "regressor_GBR_1 = GradientBoostingRegressor( criterion='mae', learning_rate=0.25, loss='ls',\n",
    "                                           max_features='auto',random_state=0)\n",
    "regressor_GBR_1.fit(x_train, y_train)"
   ]
  },
  {
   "cell_type": "code",
   "execution_count": 32,
   "id": "ed7b280b",
   "metadata": {},
   "outputs": [],
   "source": [
    "y_pred_2 =regressor_GBR_1.predict(x_test)"
   ]
  },
  {
   "cell_type": "code",
   "execution_count": 33,
   "id": "5990ac00",
   "metadata": {},
   "outputs": [
    {
     "name": "stdout",
     "output_type": "stream",
     "text": [
      "Mean Absolute Error: 0.00741692989714935\n",
      "Mean Squared Error: 0.00011388926515431637\n",
      "Root Mean Squared Error: 0.01067189135787637\n",
      "R Squared: 0.9779654705615956\n",
      "Train score: 1.00\n",
      "Test score: 0.98\n"
     ]
    }
   ],
   "source": [
    "print('Mean Absolute Error:', mean_absolute_error(y_test, y_pred_2))\n",
    "print('Mean Squared Error:', mean_squared_error(y_test, y_pred_2))\n",
    "print('Root Mean Squared Error:', np.sqrt(mean_squared_error(y_test, y_pred_2)))\n",
    "print ('R Squared:', r2_score(y_test, y_pred_2))\n",
    "print(\"Train score: {:.2f}\".format(regressor_GBR_1.score(x_train, y_train)))\n",
    "print(\"Test score: {:.2f}\".format(regressor_GBR_1.score(x_test, y_test)))"
   ]
  },
  {
   "cell_type": "markdown",
   "id": "db5276e0",
   "metadata": {},
   "source": [
    "Метод   GridSearchCV позволяет нахотить наилучший метод с наилучшими гиперпараметами\n",
    "и весь поиск поисходит в автоматическом режиме.Вданном случае нам не намного удалось\n",
    "удалось улучшить алгоритм GradientBoostingRegressor относительно его применения\n",
    "с параметрами о умолчанию."
   ]
  },
  {
   "cell_type": "code",
   "execution_count": null,
   "id": "560eaed2",
   "metadata": {},
   "outputs": [],
   "source": []
  }
 ],
 "metadata": {
  "kernelspec": {
   "display_name": "Python 3 (ipykernel)",
   "language": "python",
   "name": "python3"
  },
  "language_info": {
   "codemirror_mode": {
    "name": "ipython",
    "version": 3
   },
   "file_extension": ".py",
   "mimetype": "text/x-python",
   "name": "python",
   "nbconvert_exporter": "python",
   "pygments_lexer": "ipython3",
   "version": "3.9.13"
  }
 },
 "nbformat": 4,
 "nbformat_minor": 5
}
