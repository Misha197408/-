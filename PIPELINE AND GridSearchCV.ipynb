{
 "cells": [
  {
   "cell_type": "code",
   "execution_count": 1,
   "id": "cadd695b",
   "metadata": {},
   "outputs": [],
   "source": [
    "import numpy as np\n",
    "import pandas as pd\n",
    "import matplotlib.pyplot as plt\n",
    "import seaborn as sns\n",
    "import plotly.express as px\n",
    "import tensorflow as tf\n",
    "from sklearn.pipeline import make_pipeline, Pipeline\n",
    "from sklearn import preprocessing\n",
    "from sklearn.preprocessing import Normalizer, LabelEncoder, MinMaxScaler, StandardScaler\n",
    "from sklearn import linear_model\n",
    "from sklearn.ensemble import RandomForestRegressor, GradientBoostingRegressor\n",
    "from sklearn.linear_model import LinearRegression, LogisticRegression, SGDRegressor\n",
    "from sklearn.metrics import mean_squared_error, r2_score, mean_absolute_percentage_error, mean_absolute_error\n",
    "from sklearn.model_selection import train_test_split, GridSearchCV, KFold,RepeatedKFold, cross_val_score\n",
    "from sklearn.neighbors import KNeighborsRegressor\n",
    "from sklearn.neural_network import MLPRegressor\n",
    "from sklearn.svm import SVR\n",
    "from sklearn.tree import DecisionTreeRegressor\n",
    "from xgboost import XGBRegressor\n",
    "from sklearn.linear_model import ElasticNetCV\n",
    "from sklearn.linear_model import RidgeCV\n",
    "from sklearn.linear_model import LassoCV\n",
    "from sklearn import set_config\n",
    "import warnings\n",
    "warnings.filterwarnings(\"ignore\")"
   ]
  },
  {
   "cell_type": "code",
   "execution_count": 2,
   "id": "ed6da491",
   "metadata": {},
   "outputs": [
    {
     "data": {
      "text/html": [
       "<div>\n",
       "<style scoped>\n",
       "    .dataframe tbody tr th:only-of-type {\n",
       "        vertical-align: middle;\n",
       "    }\n",
       "\n",
       "    .dataframe tbody tr th {\n",
       "        vertical-align: top;\n",
       "    }\n",
       "\n",
       "    .dataframe thead th {\n",
       "        text-align: right;\n",
       "    }\n",
       "</style>\n",
       "<table border=\"1\" class=\"dataframe\">\n",
       "  <thead>\n",
       "    <tr style=\"text-align: right;\">\n",
       "      <th></th>\n",
       "      <th>Соотношение матрица-наполнитель</th>\n",
       "      <th>Плотность, кг/м3</th>\n",
       "      <th>модуль упругости, ГПа</th>\n",
       "      <th>Количество отвердителя, м.%</th>\n",
       "      <th>Содержание эпоксидных групп,%_2</th>\n",
       "      <th>Температура вспышки, С_2</th>\n",
       "      <th>Поверхностная плотность, г/м2</th>\n",
       "      <th>Модуль упругости при растяжении, ГПа</th>\n",
       "      <th>Прочность при растяжении, МПа</th>\n",
       "      <th>Потребление смолы, г/м2</th>\n",
       "      <th>Угол нашивки</th>\n",
       "      <th>Шаг нашивки</th>\n",
       "      <th>Плотность нашивки</th>\n",
       "    </tr>\n",
       "  </thead>\n",
       "  <tbody>\n",
       "    <tr>\n",
       "      <th>0</th>\n",
       "      <td>1.857143</td>\n",
       "      <td>2030.0</td>\n",
       "      <td>738.736842</td>\n",
       "      <td>50.00</td>\n",
       "      <td>23.750000</td>\n",
       "      <td>284.615385</td>\n",
       "      <td>210.0</td>\n",
       "      <td>70.0</td>\n",
       "      <td>3000.0</td>\n",
       "      <td>220.0</td>\n",
       "      <td>0</td>\n",
       "      <td>4.0</td>\n",
       "      <td>60.0</td>\n",
       "    </tr>\n",
       "    <tr>\n",
       "      <th>1</th>\n",
       "      <td>1.857143</td>\n",
       "      <td>2030.0</td>\n",
       "      <td>738.736842</td>\n",
       "      <td>129.00</td>\n",
       "      <td>21.250000</td>\n",
       "      <td>300.000000</td>\n",
       "      <td>210.0</td>\n",
       "      <td>70.0</td>\n",
       "      <td>3000.0</td>\n",
       "      <td>220.0</td>\n",
       "      <td>0</td>\n",
       "      <td>5.0</td>\n",
       "      <td>47.0</td>\n",
       "    </tr>\n",
       "    <tr>\n",
       "      <th>2</th>\n",
       "      <td>2.771331</td>\n",
       "      <td>2030.0</td>\n",
       "      <td>753.000000</td>\n",
       "      <td>111.86</td>\n",
       "      <td>22.267857</td>\n",
       "      <td>284.615385</td>\n",
       "      <td>210.0</td>\n",
       "      <td>70.0</td>\n",
       "      <td>3000.0</td>\n",
       "      <td>220.0</td>\n",
       "      <td>0</td>\n",
       "      <td>5.0</td>\n",
       "      <td>57.0</td>\n",
       "    </tr>\n",
       "    <tr>\n",
       "      <th>3</th>\n",
       "      <td>2.767918</td>\n",
       "      <td>2000.0</td>\n",
       "      <td>748.000000</td>\n",
       "      <td>111.86</td>\n",
       "      <td>22.267857</td>\n",
       "      <td>284.615385</td>\n",
       "      <td>210.0</td>\n",
       "      <td>70.0</td>\n",
       "      <td>3000.0</td>\n",
       "      <td>220.0</td>\n",
       "      <td>0</td>\n",
       "      <td>5.0</td>\n",
       "      <td>60.0</td>\n",
       "    </tr>\n",
       "    <tr>\n",
       "      <th>4</th>\n",
       "      <td>2.569620</td>\n",
       "      <td>1910.0</td>\n",
       "      <td>807.000000</td>\n",
       "      <td>111.86</td>\n",
       "      <td>22.267857</td>\n",
       "      <td>284.615385</td>\n",
       "      <td>210.0</td>\n",
       "      <td>70.0</td>\n",
       "      <td>3000.0</td>\n",
       "      <td>220.0</td>\n",
       "      <td>0</td>\n",
       "      <td>5.0</td>\n",
       "      <td>70.0</td>\n",
       "    </tr>\n",
       "  </tbody>\n",
       "</table>\n",
       "</div>"
      ],
      "text/plain": [
       "   Соотношение матрица-наполнитель  Плотность, кг/м3  модуль упругости, ГПа  \\\n",
       "0                         1.857143            2030.0             738.736842   \n",
       "1                         1.857143            2030.0             738.736842   \n",
       "2                         2.771331            2030.0             753.000000   \n",
       "3                         2.767918            2000.0             748.000000   \n",
       "4                         2.569620            1910.0             807.000000   \n",
       "\n",
       "   Количество отвердителя, м.%  Содержание эпоксидных групп,%_2  \\\n",
       "0                        50.00                        23.750000   \n",
       "1                       129.00                        21.250000   \n",
       "2                       111.86                        22.267857   \n",
       "3                       111.86                        22.267857   \n",
       "4                       111.86                        22.267857   \n",
       "\n",
       "   Температура вспышки, С_2  Поверхностная плотность, г/м2  \\\n",
       "0                284.615385                          210.0   \n",
       "1                300.000000                          210.0   \n",
       "2                284.615385                          210.0   \n",
       "3                284.615385                          210.0   \n",
       "4                284.615385                          210.0   \n",
       "\n",
       "   Модуль упругости при растяжении, ГПа  Прочность при растяжении, МПа  \\\n",
       "0                                  70.0                         3000.0   \n",
       "1                                  70.0                         3000.0   \n",
       "2                                  70.0                         3000.0   \n",
       "3                                  70.0                         3000.0   \n",
       "4                                  70.0                         3000.0   \n",
       "\n",
       "   Потребление смолы, г/м2  Угол нашивки  Шаг нашивки  Плотность нашивки  \n",
       "0                    220.0             0          4.0               60.0  \n",
       "1                    220.0             0          5.0               47.0  \n",
       "2                    220.0             0          5.0               57.0  \n",
       "3                    220.0             0          5.0               60.0  \n",
       "4                    220.0             0          5.0               70.0  "
      ]
     },
     "execution_count": 2,
     "metadata": {},
     "output_type": "execute_result"
    }
   ],
   "source": [
    "df = pd.read_excel(r\"C:\\Users\\55944\\Desktop\\888\\data_iqr_2.xlsx\")\n",
    "df.drop(['Unnamed: 0'], axis=1, inplace=True)\n",
    "df.head(5)"
   ]
  },
  {
   "cell_type": "code",
   "execution_count": 3,
   "id": "5e7cb08f",
   "metadata": {},
   "outputs": [
    {
     "data": {
      "text/plain": [
       "array([[4.98991831e-04, 5.45436455e-01, 1.98489657e-01, 1.34343955e-02,\n",
       "        6.38133784e-03, 7.64727126e-02, 5.64244609e-02, 1.88081536e-02,\n",
       "        8.06063727e-01, 5.91113400e-02, 0.00000000e+00, 1.07475164e-03,\n",
       "        1.61212745e-02]])"
      ]
     },
     "execution_count": 3,
     "metadata": {},
     "output_type": "execute_result"
    }
   ],
   "source": [
    "norm_scaler=Normalizer()\n",
    "df_norm=norm_scaler.fit_transform(np.array(df[['Соотношение матрица-наполнитель','Плотность, кг/м3','модуль упругости, ГПа','Количество отвердителя, м.%','Содержание эпоксидных групп,%_2','Температура вспышки, С_2','Поверхностная плотность, г/м2','Модуль упругости при растяжении, ГПа','Прочность при растяжении, МПа','Потребление смолы, г/м2','Угол нашивки','Шаг нашивки','Плотность нашивки']]))\n",
    "df_norm[:1]"
   ]
  },
  {
   "cell_type": "code",
   "execution_count": 4,
   "id": "366000a9",
   "metadata": {},
   "outputs": [
    {
     "data": {
      "text/html": [
       "<div>\n",
       "<style scoped>\n",
       "    .dataframe tbody tr th:only-of-type {\n",
       "        vertical-align: middle;\n",
       "    }\n",
       "\n",
       "    .dataframe tbody tr th {\n",
       "        vertical-align: top;\n",
       "    }\n",
       "\n",
       "    .dataframe thead th {\n",
       "        text-align: right;\n",
       "    }\n",
       "</style>\n",
       "<table border=\"1\" class=\"dataframe\">\n",
       "  <thead>\n",
       "    <tr style=\"text-align: right;\">\n",
       "      <th></th>\n",
       "      <th>Соотношение матрица-наполнитель</th>\n",
       "      <th>Плотность, кг/м3</th>\n",
       "      <th>модуль упругости, ГПа</th>\n",
       "      <th>Количество отвердителя, м.%</th>\n",
       "      <th>Содержание эпоксидных групп,%_2</th>\n",
       "      <th>Температура вспышки, С_2</th>\n",
       "      <th>Поверхностная плотность, г/м2</th>\n",
       "      <th>Модуль упругости при растяжении, ГПа</th>\n",
       "      <th>Прочность при растяжении, МПа</th>\n",
       "      <th>Потребление смолы</th>\n",
       "      <th>Угол нашивки</th>\n",
       "      <th>Шаг нашивки</th>\n",
       "      <th>Плотность нашивки</th>\n",
       "    </tr>\n",
       "  </thead>\n",
       "  <tbody>\n",
       "    <tr>\n",
       "      <th>0</th>\n",
       "      <td>0.000499</td>\n",
       "      <td>0.545436</td>\n",
       "      <td>0.198490</td>\n",
       "      <td>0.013434</td>\n",
       "      <td>0.006381</td>\n",
       "      <td>0.076473</td>\n",
       "      <td>0.056424</td>\n",
       "      <td>0.018808</td>\n",
       "      <td>0.806064</td>\n",
       "      <td>0.059111</td>\n",
       "      <td>0.000000</td>\n",
       "      <td>0.001075</td>\n",
       "      <td>0.016121</td>\n",
       "    </tr>\n",
       "    <tr>\n",
       "      <th>1</th>\n",
       "      <td>0.000499</td>\n",
       "      <td>0.545011</td>\n",
       "      <td>0.198335</td>\n",
       "      <td>0.034634</td>\n",
       "      <td>0.005705</td>\n",
       "      <td>0.080543</td>\n",
       "      <td>0.056380</td>\n",
       "      <td>0.018793</td>\n",
       "      <td>0.805435</td>\n",
       "      <td>0.059065</td>\n",
       "      <td>0.000000</td>\n",
       "      <td>0.001342</td>\n",
       "      <td>0.012618</td>\n",
       "    </tr>\n",
       "    <tr>\n",
       "      <th>2</th>\n",
       "      <td>0.000744</td>\n",
       "      <td>0.544829</td>\n",
       "      <td>0.202097</td>\n",
       "      <td>0.030022</td>\n",
       "      <td>0.005976</td>\n",
       "      <td>0.076388</td>\n",
       "      <td>0.056362</td>\n",
       "      <td>0.018787</td>\n",
       "      <td>0.805167</td>\n",
       "      <td>0.059046</td>\n",
       "      <td>0.000000</td>\n",
       "      <td>0.001342</td>\n",
       "      <td>0.015298</td>\n",
       "    </tr>\n",
       "    <tr>\n",
       "      <th>3</th>\n",
       "      <td>0.000746</td>\n",
       "      <td>0.539271</td>\n",
       "      <td>0.201687</td>\n",
       "      <td>0.030161</td>\n",
       "      <td>0.006004</td>\n",
       "      <td>0.076742</td>\n",
       "      <td>0.056623</td>\n",
       "      <td>0.018874</td>\n",
       "      <td>0.808906</td>\n",
       "      <td>0.059320</td>\n",
       "      <td>0.000000</td>\n",
       "      <td>0.001348</td>\n",
       "      <td>0.016178</td>\n",
       "    </tr>\n",
       "    <tr>\n",
       "      <th>4</th>\n",
       "      <td>0.000699</td>\n",
       "      <td>0.519919</td>\n",
       "      <td>0.219673</td>\n",
       "      <td>0.030449</td>\n",
       "      <td>0.006062</td>\n",
       "      <td>0.077475</td>\n",
       "      <td>0.057164</td>\n",
       "      <td>0.019055</td>\n",
       "      <td>0.816627</td>\n",
       "      <td>0.059886</td>\n",
       "      <td>0.000000</td>\n",
       "      <td>0.001361</td>\n",
       "      <td>0.019055</td>\n",
       "    </tr>\n",
       "    <tr>\n",
       "      <th>...</th>\n",
       "      <td>...</td>\n",
       "      <td>...</td>\n",
       "      <td>...</td>\n",
       "      <td>...</td>\n",
       "      <td>...</td>\n",
       "      <td>...</td>\n",
       "      <td>...</td>\n",
       "      <td>...</td>\n",
       "      <td>...</td>\n",
       "      <td>...</td>\n",
       "      <td>...</td>\n",
       "      <td>...</td>\n",
       "      <td>...</td>\n",
       "    </tr>\n",
       "    <tr>\n",
       "      <th>917</th>\n",
       "      <td>0.000700</td>\n",
       "      <td>0.601751</td>\n",
       "      <td>0.281397</td>\n",
       "      <td>0.026816</td>\n",
       "      <td>0.006203</td>\n",
       "      <td>0.100115</td>\n",
       "      <td>0.064488</td>\n",
       "      <td>0.022531</td>\n",
       "      <td>0.735908</td>\n",
       "      <td>0.038535</td>\n",
       "      <td>0.000308</td>\n",
       "      <td>0.002798</td>\n",
       "      <td>0.014494</td>\n",
       "    </tr>\n",
       "    <tr>\n",
       "      <th>918</th>\n",
       "      <td>0.001078</td>\n",
       "      <td>0.641795</td>\n",
       "      <td>0.139227</td>\n",
       "      <td>0.045701</td>\n",
       "      <td>0.006136</td>\n",
       "      <td>0.079584</td>\n",
       "      <td>0.109777</td>\n",
       "      <td>0.022828</td>\n",
       "      <td>0.738938</td>\n",
       "      <td>0.036856</td>\n",
       "      <td>0.000313</td>\n",
       "      <td>0.003308</td>\n",
       "      <td>0.016827</td>\n",
       "    </tr>\n",
       "    <tr>\n",
       "      <th>919</th>\n",
       "      <td>0.000953</td>\n",
       "      <td>0.573123</td>\n",
       "      <td>0.121122</td>\n",
       "      <td>0.032118</td>\n",
       "      <td>0.006961</td>\n",
       "      <td>0.072186</td>\n",
       "      <td>0.215067</td>\n",
       "      <td>0.021716</td>\n",
       "      <td>0.773775</td>\n",
       "      <td>0.068752</td>\n",
       "      <td>0.000291</td>\n",
       "      <td>0.001209</td>\n",
       "      <td>0.019652</td>\n",
       "    </tr>\n",
       "    <tr>\n",
       "      <th>920</th>\n",
       "      <td>0.001192</td>\n",
       "      <td>0.664667</td>\n",
       "      <td>0.238453</td>\n",
       "      <td>0.045473</td>\n",
       "      <td>0.006190</td>\n",
       "      <td>0.088689</td>\n",
       "      <td>0.206291</td>\n",
       "      <td>0.023812</td>\n",
       "      <td>0.666248</td>\n",
       "      <td>0.063394</td>\n",
       "      <td>0.000322</td>\n",
       "      <td>0.002030</td>\n",
       "      <td>0.018736</td>\n",
       "    </tr>\n",
       "    <tr>\n",
       "      <th>921</th>\n",
       "      <td>0.001071</td>\n",
       "      <td>0.531728</td>\n",
       "      <td>0.117381</td>\n",
       "      <td>0.036336</td>\n",
       "      <td>0.007728</td>\n",
       "      <td>0.084651</td>\n",
       "      <td>0.213418</td>\n",
       "      <td>0.020902</td>\n",
       "      <td>0.803417</td>\n",
       "      <td>0.054780</td>\n",
       "      <td>0.000281</td>\n",
       "      <td>0.001710</td>\n",
       "      <td>0.021780</td>\n",
       "    </tr>\n",
       "  </tbody>\n",
       "</table>\n",
       "<p>922 rows × 13 columns</p>\n",
       "</div>"
      ],
      "text/plain": [
       "     Соотношение матрица-наполнитель  Плотность, кг/м3  модуль упругости, ГПа  \\\n",
       "0                           0.000499          0.545436               0.198490   \n",
       "1                           0.000499          0.545011               0.198335   \n",
       "2                           0.000744          0.544829               0.202097   \n",
       "3                           0.000746          0.539271               0.201687   \n",
       "4                           0.000699          0.519919               0.219673   \n",
       "..                               ...               ...                    ...   \n",
       "917                         0.000700          0.601751               0.281397   \n",
       "918                         0.001078          0.641795               0.139227   \n",
       "919                         0.000953          0.573123               0.121122   \n",
       "920                         0.001192          0.664667               0.238453   \n",
       "921                         0.001071          0.531728               0.117381   \n",
       "\n",
       "     Количество отвердителя, м.%  Содержание эпоксидных групп,%_2  \\\n",
       "0                       0.013434                         0.006381   \n",
       "1                       0.034634                         0.005705   \n",
       "2                       0.030022                         0.005976   \n",
       "3                       0.030161                         0.006004   \n",
       "4                       0.030449                         0.006062   \n",
       "..                           ...                              ...   \n",
       "917                     0.026816                         0.006203   \n",
       "918                     0.045701                         0.006136   \n",
       "919                     0.032118                         0.006961   \n",
       "920                     0.045473                         0.006190   \n",
       "921                     0.036336                         0.007728   \n",
       "\n",
       "     Температура вспышки, С_2  Поверхностная плотность, г/м2  \\\n",
       "0                    0.076473                       0.056424   \n",
       "1                    0.080543                       0.056380   \n",
       "2                    0.076388                       0.056362   \n",
       "3                    0.076742                       0.056623   \n",
       "4                    0.077475                       0.057164   \n",
       "..                        ...                            ...   \n",
       "917                  0.100115                       0.064488   \n",
       "918                  0.079584                       0.109777   \n",
       "919                  0.072186                       0.215067   \n",
       "920                  0.088689                       0.206291   \n",
       "921                  0.084651                       0.213418   \n",
       "\n",
       "     Модуль упругости при растяжении, ГПа  Прочность при растяжении, МПа  \\\n",
       "0                                0.018808                       0.806064   \n",
       "1                                0.018793                       0.805435   \n",
       "2                                0.018787                       0.805167   \n",
       "3                                0.018874                       0.808906   \n",
       "4                                0.019055                       0.816627   \n",
       "..                                    ...                            ...   \n",
       "917                              0.022531                       0.735908   \n",
       "918                              0.022828                       0.738938   \n",
       "919                              0.021716                       0.773775   \n",
       "920                              0.023812                       0.666248   \n",
       "921                              0.020902                       0.803417   \n",
       "\n",
       "     Потребление смолы  Угол нашивки  Шаг нашивки  Плотность нашивки  \n",
       "0             0.059111      0.000000     0.001075           0.016121  \n",
       "1             0.059065      0.000000     0.001342           0.012618  \n",
       "2             0.059046      0.000000     0.001342           0.015298  \n",
       "3             0.059320      0.000000     0.001348           0.016178  \n",
       "4             0.059886      0.000000     0.001361           0.019055  \n",
       "..                 ...           ...          ...                ...  \n",
       "917           0.038535      0.000308     0.002798           0.014494  \n",
       "918           0.036856      0.000313     0.003308           0.016827  \n",
       "919           0.068752      0.000291     0.001209           0.019652  \n",
       "920           0.063394      0.000322     0.002030           0.018736  \n",
       "921           0.054780      0.000281     0.001710           0.021780  \n",
       "\n",
       "[922 rows x 13 columns]"
      ]
     },
     "execution_count": 4,
     "metadata": {},
     "output_type": "execute_result"
    }
   ],
   "source": [
    "#возвращаем названия столбцов,нормализованную матрицу\n",
    "df_norm=pd.DataFrame(data=df_norm,columns=['Соотношение матрица-наполнитель','Плотность, кг/м3','модуль упругости, ГПа','Количество отвердителя, м.%','Содержание эпоксидных групп,%_2','Температура вспышки, С_2','Поверхностная плотность, г/м2','Модуль упругости при растяжении, ГПа','Прочность при растяжении, МПа','Потребление смолы','Угол нашивки','Шаг нашивки','Плотность нашивки'])\n",
    "df_norm"
   ]
  },
  {
   "cell_type": "code",
   "execution_count": 5,
   "id": "611ae659",
   "metadata": {},
   "outputs": [
    {
     "data": {
      "text/plain": [
       "Index(['Соотношение матрица-наполнитель', 'Плотность, кг/м3',\n",
       "       'модуль упругости, ГПа', 'Количество отвердителя, м.%',\n",
       "       'Содержание эпоксидных групп,%_2', 'Температура вспышки, С_2',\n",
       "       'Поверхностная плотность, г/м2', 'Модуль упругости при растяжении, ГПа',\n",
       "       'Прочность при растяжении, МПа', 'Потребление смолы', 'Угол нашивки',\n",
       "       'Шаг нашивки', 'Плотность нашивки'],\n",
       "      dtype='object')"
      ]
     },
     "execution_count": 5,
     "metadata": {},
     "output_type": "execute_result"
    }
   ],
   "source": [
    "df_norm.columns"
   ]
  },
  {
   "cell_type": "code",
   "execution_count": null,
   "id": "9305d4af",
   "metadata": {},
   "outputs": [],
   "source": []
  },
  {
   "cell_type": "code",
   "execution_count": 6,
   "id": "41566611",
   "metadata": {},
   "outputs": [],
   "source": [
    "x=df_norm[['Соотношение матрица-наполнитель', 'Плотность, кг/м3',\n",
    "       'модуль упругости, ГПа', 'Количество отвердителя, м.%',\n",
    "       'Содержание эпоксидных групп,%_2', 'Температура вспышки, С_2',\n",
    "       'Поверхностная плотность, г/м2', 'Модуль упругости при растяжении, ГПа',\n",
    "       'Потребление смолы', 'Угол нашивки',\n",
    "       'Шаг нашивки', 'Плотность нашивки']]\n",
    "# целевую переменную поместим в переменную y\n",
    "y=df_norm[['Прочность при растяжении, МПа']]"
   ]
  },
  {
   "cell_type": "code",
   "execution_count": 7,
   "id": "6653601f",
   "metadata": {},
   "outputs": [],
   "source": [
    "x_train, x_test, y_train, y_test = train_test_split(x, y, \n",
    "                                                    test_size = 0.3, \n",
    "                                                    random_state = 42)"
   ]
  },
  {
   "cell_type": "markdown",
   "id": "e993734b",
   "metadata": {},
   "source": [
    "# PIPELINE алгоритма регрессии"
   ]
  },
  {
   "cell_type": "markdown",
   "id": "6685381a",
   "metadata": {},
   "source": [
    "# kNN"
   ]
  },
  {
   "cell_type": "code",
   "execution_count": 8,
   "id": "84e2cfc7",
   "metadata": {},
   "outputs": [],
   "source": [
    "set_config(display=\"diagram\")"
   ]
  },
  {
   "cell_type": "code",
   "execution_count": 9,
   "id": "5e982e4c",
   "metadata": {},
   "outputs": [
    {
     "data": {
      "text/html": [
       "<style>#sk-ab445317-77e1-4acf-a11f-f979439529c9 {color: black;background-color: white;}#sk-ab445317-77e1-4acf-a11f-f979439529c9 pre{padding: 0;}#sk-ab445317-77e1-4acf-a11f-f979439529c9 div.sk-toggleable {background-color: white;}#sk-ab445317-77e1-4acf-a11f-f979439529c9 label.sk-toggleable__label {cursor: pointer;display: block;width: 100%;margin-bottom: 0;padding: 0.3em;box-sizing: border-box;text-align: center;}#sk-ab445317-77e1-4acf-a11f-f979439529c9 label.sk-toggleable__label-arrow:before {content: \"▸\";float: left;margin-right: 0.25em;color: #696969;}#sk-ab445317-77e1-4acf-a11f-f979439529c9 label.sk-toggleable__label-arrow:hover:before {color: black;}#sk-ab445317-77e1-4acf-a11f-f979439529c9 div.sk-estimator:hover label.sk-toggleable__label-arrow:before {color: black;}#sk-ab445317-77e1-4acf-a11f-f979439529c9 div.sk-toggleable__content {max-height: 0;max-width: 0;overflow: hidden;text-align: left;background-color: #f0f8ff;}#sk-ab445317-77e1-4acf-a11f-f979439529c9 div.sk-toggleable__content pre {margin: 0.2em;color: black;border-radius: 0.25em;background-color: #f0f8ff;}#sk-ab445317-77e1-4acf-a11f-f979439529c9 input.sk-toggleable__control:checked~div.sk-toggleable__content {max-height: 200px;max-width: 100%;overflow: auto;}#sk-ab445317-77e1-4acf-a11f-f979439529c9 input.sk-toggleable__control:checked~label.sk-toggleable__label-arrow:before {content: \"▾\";}#sk-ab445317-77e1-4acf-a11f-f979439529c9 div.sk-estimator input.sk-toggleable__control:checked~label.sk-toggleable__label {background-color: #d4ebff;}#sk-ab445317-77e1-4acf-a11f-f979439529c9 div.sk-label input.sk-toggleable__control:checked~label.sk-toggleable__label {background-color: #d4ebff;}#sk-ab445317-77e1-4acf-a11f-f979439529c9 input.sk-hidden--visually {border: 0;clip: rect(1px 1px 1px 1px);clip: rect(1px, 1px, 1px, 1px);height: 1px;margin: -1px;overflow: hidden;padding: 0;position: absolute;width: 1px;}#sk-ab445317-77e1-4acf-a11f-f979439529c9 div.sk-estimator {font-family: monospace;background-color: #f0f8ff;border: 1px dotted black;border-radius: 0.25em;box-sizing: border-box;margin-bottom: 0.5em;}#sk-ab445317-77e1-4acf-a11f-f979439529c9 div.sk-estimator:hover {background-color: #d4ebff;}#sk-ab445317-77e1-4acf-a11f-f979439529c9 div.sk-parallel-item::after {content: \"\";width: 100%;border-bottom: 1px solid gray;flex-grow: 1;}#sk-ab445317-77e1-4acf-a11f-f979439529c9 div.sk-label:hover label.sk-toggleable__label {background-color: #d4ebff;}#sk-ab445317-77e1-4acf-a11f-f979439529c9 div.sk-serial::before {content: \"\";position: absolute;border-left: 1px solid gray;box-sizing: border-box;top: 2em;bottom: 0;left: 50%;}#sk-ab445317-77e1-4acf-a11f-f979439529c9 div.sk-serial {display: flex;flex-direction: column;align-items: center;background-color: white;padding-right: 0.2em;padding-left: 0.2em;}#sk-ab445317-77e1-4acf-a11f-f979439529c9 div.sk-item {z-index: 1;}#sk-ab445317-77e1-4acf-a11f-f979439529c9 div.sk-parallel {display: flex;align-items: stretch;justify-content: center;background-color: white;}#sk-ab445317-77e1-4acf-a11f-f979439529c9 div.sk-parallel::before {content: \"\";position: absolute;border-left: 1px solid gray;box-sizing: border-box;top: 2em;bottom: 0;left: 50%;}#sk-ab445317-77e1-4acf-a11f-f979439529c9 div.sk-parallel-item {display: flex;flex-direction: column;position: relative;background-color: white;}#sk-ab445317-77e1-4acf-a11f-f979439529c9 div.sk-parallel-item:first-child::after {align-self: flex-end;width: 50%;}#sk-ab445317-77e1-4acf-a11f-f979439529c9 div.sk-parallel-item:last-child::after {align-self: flex-start;width: 50%;}#sk-ab445317-77e1-4acf-a11f-f979439529c9 div.sk-parallel-item:only-child::after {width: 0;}#sk-ab445317-77e1-4acf-a11f-f979439529c9 div.sk-dashed-wrapped {border: 1px dashed gray;margin: 0 0.4em 0.5em 0.4em;box-sizing: border-box;padding-bottom: 0.4em;background-color: white;position: relative;}#sk-ab445317-77e1-4acf-a11f-f979439529c9 div.sk-label label {font-family: monospace;font-weight: bold;background-color: white;display: inline-block;line-height: 1.2em;}#sk-ab445317-77e1-4acf-a11f-f979439529c9 div.sk-label-container {position: relative;z-index: 2;text-align: center;}#sk-ab445317-77e1-4acf-a11f-f979439529c9 div.sk-container {/* jupyter's `normalize.less` sets `[hidden] { display: none; }` but bootstrap.min.css set `[hidden] { display: none !important; }` so we also need the `!important` here to be able to override the default hidden behavior on the sphinx rendered scikit-learn.org. See: https://github.com/scikit-learn/scikit-learn/issues/21755 */display: inline-block !important;position: relative;}#sk-ab445317-77e1-4acf-a11f-f979439529c9 div.sk-text-repr-fallback {display: none;}</style><div id=\"sk-ab445317-77e1-4acf-a11f-f979439529c9\" class=\"sk-top-container\"><div class=\"sk-text-repr-fallback\"><pre>Pipeline(steps=[(&#x27;kneighborsregressor&#x27;, KNeighborsRegressor())])</pre><b>Please rerun this cell to show the HTML repr or trust the notebook.</b></div><div class=\"sk-container\" hidden><div class=\"sk-item sk-dashed-wrapped\"><div class=\"sk-label-container\"><div class=\"sk-label sk-toggleable\"><input class=\"sk-toggleable__control sk-hidden--visually\" id=\"e5f8551a-b287-41f0-abe8-8c4385178fc6\" type=\"checkbox\" ><label for=\"e5f8551a-b287-41f0-abe8-8c4385178fc6\" class=\"sk-toggleable__label sk-toggleable__label-arrow\">Pipeline</label><div class=\"sk-toggleable__content\"><pre>Pipeline(steps=[(&#x27;kneighborsregressor&#x27;, KNeighborsRegressor())])</pre></div></div></div><div class=\"sk-serial\"><div class=\"sk-item\"><div class=\"sk-estimator sk-toggleable\"><input class=\"sk-toggleable__control sk-hidden--visually\" id=\"d7c898d2-a365-4d51-a341-d0a7d27ad41f\" type=\"checkbox\" ><label for=\"d7c898d2-a365-4d51-a341-d0a7d27ad41f\" class=\"sk-toggleable__label sk-toggleable__label-arrow\">KNeighborsRegressor</label><div class=\"sk-toggleable__content\"><pre>KNeighborsRegressor()</pre></div></div></div></div></div></div></div>"
      ],
      "text/plain": [
       "Pipeline(steps=[('kneighborsregressor', KNeighborsRegressor())])"
      ]
     },
     "execution_count": 9,
     "metadata": {},
     "output_type": "execute_result"
    }
   ],
   "source": [
    "pipe = make_pipeline( KNeighborsRegressor())\n",
    "pipe.fit(x_train, y_train)\n"
   ]
  },
  {
   "cell_type": "code",
   "execution_count": 10,
   "id": "98860e8a",
   "metadata": {},
   "outputs": [],
   "source": [
    "y_pred_KNN = pipe.predict(x_test)"
   ]
  },
  {
   "cell_type": "code",
   "execution_count": 11,
   "id": "ba4b3a6b",
   "metadata": {},
   "outputs": [
    {
     "name": "stdout",
     "output_type": "stream",
     "text": [
      "Mean Absolute Error: 0.010686887211776788\n",
      "Mean Squared Error: 0.00029687968847148794\n",
      "Root Mean Squared Error: 0.017230196994564163\n",
      "R_Squared: 0.9425617135519692\n"
     ]
    }
   ],
   "source": [
    "print('Mean Absolute Error:', mean_absolute_error(y_test, y_pred_KNN))\n",
    "print('Mean Squared Error:', mean_squared_error(y_test, y_pred_KNN))\n",
    "print('Root Mean Squared Error:', np.sqrt(mean_squared_error(y_test, y_pred_KNN)))\n",
    "print ('R_Squared:', r2_score(y_test, y_pred_KNN))"
   ]
  },
  {
   "cell_type": "markdown",
   "id": "a753387a",
   "metadata": {},
   "source": [
    "# Регрессия дерева решений"
   ]
  },
  {
   "cell_type": "code",
   "execution_count": 12,
   "id": "38f6ad46",
   "metadata": {},
   "outputs": [
    {
     "data": {
      "text/html": [
       "<style>#sk-3f69a552-d3d0-46c4-b9fe-da77a7d923a3 {color: black;background-color: white;}#sk-3f69a552-d3d0-46c4-b9fe-da77a7d923a3 pre{padding: 0;}#sk-3f69a552-d3d0-46c4-b9fe-da77a7d923a3 div.sk-toggleable {background-color: white;}#sk-3f69a552-d3d0-46c4-b9fe-da77a7d923a3 label.sk-toggleable__label {cursor: pointer;display: block;width: 100%;margin-bottom: 0;padding: 0.3em;box-sizing: border-box;text-align: center;}#sk-3f69a552-d3d0-46c4-b9fe-da77a7d923a3 label.sk-toggleable__label-arrow:before {content: \"▸\";float: left;margin-right: 0.25em;color: #696969;}#sk-3f69a552-d3d0-46c4-b9fe-da77a7d923a3 label.sk-toggleable__label-arrow:hover:before {color: black;}#sk-3f69a552-d3d0-46c4-b9fe-da77a7d923a3 div.sk-estimator:hover label.sk-toggleable__label-arrow:before {color: black;}#sk-3f69a552-d3d0-46c4-b9fe-da77a7d923a3 div.sk-toggleable__content {max-height: 0;max-width: 0;overflow: hidden;text-align: left;background-color: #f0f8ff;}#sk-3f69a552-d3d0-46c4-b9fe-da77a7d923a3 div.sk-toggleable__content pre {margin: 0.2em;color: black;border-radius: 0.25em;background-color: #f0f8ff;}#sk-3f69a552-d3d0-46c4-b9fe-da77a7d923a3 input.sk-toggleable__control:checked~div.sk-toggleable__content {max-height: 200px;max-width: 100%;overflow: auto;}#sk-3f69a552-d3d0-46c4-b9fe-da77a7d923a3 input.sk-toggleable__control:checked~label.sk-toggleable__label-arrow:before {content: \"▾\";}#sk-3f69a552-d3d0-46c4-b9fe-da77a7d923a3 div.sk-estimator input.sk-toggleable__control:checked~label.sk-toggleable__label {background-color: #d4ebff;}#sk-3f69a552-d3d0-46c4-b9fe-da77a7d923a3 div.sk-label input.sk-toggleable__control:checked~label.sk-toggleable__label {background-color: #d4ebff;}#sk-3f69a552-d3d0-46c4-b9fe-da77a7d923a3 input.sk-hidden--visually {border: 0;clip: rect(1px 1px 1px 1px);clip: rect(1px, 1px, 1px, 1px);height: 1px;margin: -1px;overflow: hidden;padding: 0;position: absolute;width: 1px;}#sk-3f69a552-d3d0-46c4-b9fe-da77a7d923a3 div.sk-estimator {font-family: monospace;background-color: #f0f8ff;border: 1px dotted black;border-radius: 0.25em;box-sizing: border-box;margin-bottom: 0.5em;}#sk-3f69a552-d3d0-46c4-b9fe-da77a7d923a3 div.sk-estimator:hover {background-color: #d4ebff;}#sk-3f69a552-d3d0-46c4-b9fe-da77a7d923a3 div.sk-parallel-item::after {content: \"\";width: 100%;border-bottom: 1px solid gray;flex-grow: 1;}#sk-3f69a552-d3d0-46c4-b9fe-da77a7d923a3 div.sk-label:hover label.sk-toggleable__label {background-color: #d4ebff;}#sk-3f69a552-d3d0-46c4-b9fe-da77a7d923a3 div.sk-serial::before {content: \"\";position: absolute;border-left: 1px solid gray;box-sizing: border-box;top: 2em;bottom: 0;left: 50%;}#sk-3f69a552-d3d0-46c4-b9fe-da77a7d923a3 div.sk-serial {display: flex;flex-direction: column;align-items: center;background-color: white;padding-right: 0.2em;padding-left: 0.2em;}#sk-3f69a552-d3d0-46c4-b9fe-da77a7d923a3 div.sk-item {z-index: 1;}#sk-3f69a552-d3d0-46c4-b9fe-da77a7d923a3 div.sk-parallel {display: flex;align-items: stretch;justify-content: center;background-color: white;}#sk-3f69a552-d3d0-46c4-b9fe-da77a7d923a3 div.sk-parallel::before {content: \"\";position: absolute;border-left: 1px solid gray;box-sizing: border-box;top: 2em;bottom: 0;left: 50%;}#sk-3f69a552-d3d0-46c4-b9fe-da77a7d923a3 div.sk-parallel-item {display: flex;flex-direction: column;position: relative;background-color: white;}#sk-3f69a552-d3d0-46c4-b9fe-da77a7d923a3 div.sk-parallel-item:first-child::after {align-self: flex-end;width: 50%;}#sk-3f69a552-d3d0-46c4-b9fe-da77a7d923a3 div.sk-parallel-item:last-child::after {align-self: flex-start;width: 50%;}#sk-3f69a552-d3d0-46c4-b9fe-da77a7d923a3 div.sk-parallel-item:only-child::after {width: 0;}#sk-3f69a552-d3d0-46c4-b9fe-da77a7d923a3 div.sk-dashed-wrapped {border: 1px dashed gray;margin: 0 0.4em 0.5em 0.4em;box-sizing: border-box;padding-bottom: 0.4em;background-color: white;position: relative;}#sk-3f69a552-d3d0-46c4-b9fe-da77a7d923a3 div.sk-label label {font-family: monospace;font-weight: bold;background-color: white;display: inline-block;line-height: 1.2em;}#sk-3f69a552-d3d0-46c4-b9fe-da77a7d923a3 div.sk-label-container {position: relative;z-index: 2;text-align: center;}#sk-3f69a552-d3d0-46c4-b9fe-da77a7d923a3 div.sk-container {/* jupyter's `normalize.less` sets `[hidden] { display: none; }` but bootstrap.min.css set `[hidden] { display: none !important; }` so we also need the `!important` here to be able to override the default hidden behavior on the sphinx rendered scikit-learn.org. See: https://github.com/scikit-learn/scikit-learn/issues/21755 */display: inline-block !important;position: relative;}#sk-3f69a552-d3d0-46c4-b9fe-da77a7d923a3 div.sk-text-repr-fallback {display: none;}</style><div id=\"sk-3f69a552-d3d0-46c4-b9fe-da77a7d923a3\" class=\"sk-top-container\"><div class=\"sk-text-repr-fallback\"><pre>Pipeline(steps=[(&#x27;decisiontreeregressor&#x27;, DecisionTreeRegressor())])</pre><b>Please rerun this cell to show the HTML repr or trust the notebook.</b></div><div class=\"sk-container\" hidden><div class=\"sk-item sk-dashed-wrapped\"><div class=\"sk-label-container\"><div class=\"sk-label sk-toggleable\"><input class=\"sk-toggleable__control sk-hidden--visually\" id=\"f962325d-4979-4fc7-9837-2f0a53faa604\" type=\"checkbox\" ><label for=\"f962325d-4979-4fc7-9837-2f0a53faa604\" class=\"sk-toggleable__label sk-toggleable__label-arrow\">Pipeline</label><div class=\"sk-toggleable__content\"><pre>Pipeline(steps=[(&#x27;decisiontreeregressor&#x27;, DecisionTreeRegressor())])</pre></div></div></div><div class=\"sk-serial\"><div class=\"sk-item\"><div class=\"sk-estimator sk-toggleable\"><input class=\"sk-toggleable__control sk-hidden--visually\" id=\"4b65596a-2cf1-461c-8224-dff4832dc171\" type=\"checkbox\" ><label for=\"4b65596a-2cf1-461c-8224-dff4832dc171\" class=\"sk-toggleable__label sk-toggleable__label-arrow\">DecisionTreeRegressor</label><div class=\"sk-toggleable__content\"><pre>DecisionTreeRegressor()</pre></div></div></div></div></div></div></div>"
      ],
      "text/plain": [
       "Pipeline(steps=[('decisiontreeregressor', DecisionTreeRegressor())])"
      ]
     },
     "execution_count": 12,
     "metadata": {},
     "output_type": "execute_result"
    }
   ],
   "source": [
    "pipe = make_pipeline(DecisionTreeRegressor())\n",
    "pipe.fit(x_train, y_train)\n"
   ]
  },
  {
   "cell_type": "code",
   "execution_count": 13,
   "id": "bc066f37",
   "metadata": {},
   "outputs": [],
   "source": [
    "y_pred_DT = pipe.predict(x_test)"
   ]
  },
  {
   "cell_type": "code",
   "execution_count": 14,
   "id": "4f0f6f90",
   "metadata": {},
   "outputs": [
    {
     "name": "stdout",
     "output_type": "stream",
     "text": [
      "Mean Absolute Error: 0.014411679715426734\n",
      "Mean Squared Error: 0.0003545372135459539\n",
      "Root Mean Squared Error: 0.018829158598990925\n",
      "R_Squared: 0.9314065231845765\n"
     ]
    }
   ],
   "source": [
    "print('Mean Absolute Error:', mean_absolute_error(y_test, y_pred_DT))\n",
    "print('Mean Squared Error:', mean_squared_error(y_test, y_pred_DT))\n",
    "print('Root Mean Squared Error:', np.sqrt(mean_squared_error(y_test, y_pred_DT)))\n",
    "print ('R_Squared:', r2_score(y_test, y_pred_DT))"
   ]
  },
  {
   "cell_type": "markdown",
   "id": "84ead4a6",
   "metadata": {},
   "source": [
    "# Регрессия случайного леса"
   ]
  },
  {
   "cell_type": "code",
   "execution_count": 15,
   "id": "8f7c9296",
   "metadata": {},
   "outputs": [
    {
     "data": {
      "text/html": [
       "<style>#sk-c1cde46d-4514-4fb8-afee-e5751c284e84 {color: black;background-color: white;}#sk-c1cde46d-4514-4fb8-afee-e5751c284e84 pre{padding: 0;}#sk-c1cde46d-4514-4fb8-afee-e5751c284e84 div.sk-toggleable {background-color: white;}#sk-c1cde46d-4514-4fb8-afee-e5751c284e84 label.sk-toggleable__label {cursor: pointer;display: block;width: 100%;margin-bottom: 0;padding: 0.3em;box-sizing: border-box;text-align: center;}#sk-c1cde46d-4514-4fb8-afee-e5751c284e84 label.sk-toggleable__label-arrow:before {content: \"▸\";float: left;margin-right: 0.25em;color: #696969;}#sk-c1cde46d-4514-4fb8-afee-e5751c284e84 label.sk-toggleable__label-arrow:hover:before {color: black;}#sk-c1cde46d-4514-4fb8-afee-e5751c284e84 div.sk-estimator:hover label.sk-toggleable__label-arrow:before {color: black;}#sk-c1cde46d-4514-4fb8-afee-e5751c284e84 div.sk-toggleable__content {max-height: 0;max-width: 0;overflow: hidden;text-align: left;background-color: #f0f8ff;}#sk-c1cde46d-4514-4fb8-afee-e5751c284e84 div.sk-toggleable__content pre {margin: 0.2em;color: black;border-radius: 0.25em;background-color: #f0f8ff;}#sk-c1cde46d-4514-4fb8-afee-e5751c284e84 input.sk-toggleable__control:checked~div.sk-toggleable__content {max-height: 200px;max-width: 100%;overflow: auto;}#sk-c1cde46d-4514-4fb8-afee-e5751c284e84 input.sk-toggleable__control:checked~label.sk-toggleable__label-arrow:before {content: \"▾\";}#sk-c1cde46d-4514-4fb8-afee-e5751c284e84 div.sk-estimator input.sk-toggleable__control:checked~label.sk-toggleable__label {background-color: #d4ebff;}#sk-c1cde46d-4514-4fb8-afee-e5751c284e84 div.sk-label input.sk-toggleable__control:checked~label.sk-toggleable__label {background-color: #d4ebff;}#sk-c1cde46d-4514-4fb8-afee-e5751c284e84 input.sk-hidden--visually {border: 0;clip: rect(1px 1px 1px 1px);clip: rect(1px, 1px, 1px, 1px);height: 1px;margin: -1px;overflow: hidden;padding: 0;position: absolute;width: 1px;}#sk-c1cde46d-4514-4fb8-afee-e5751c284e84 div.sk-estimator {font-family: monospace;background-color: #f0f8ff;border: 1px dotted black;border-radius: 0.25em;box-sizing: border-box;margin-bottom: 0.5em;}#sk-c1cde46d-4514-4fb8-afee-e5751c284e84 div.sk-estimator:hover {background-color: #d4ebff;}#sk-c1cde46d-4514-4fb8-afee-e5751c284e84 div.sk-parallel-item::after {content: \"\";width: 100%;border-bottom: 1px solid gray;flex-grow: 1;}#sk-c1cde46d-4514-4fb8-afee-e5751c284e84 div.sk-label:hover label.sk-toggleable__label {background-color: #d4ebff;}#sk-c1cde46d-4514-4fb8-afee-e5751c284e84 div.sk-serial::before {content: \"\";position: absolute;border-left: 1px solid gray;box-sizing: border-box;top: 2em;bottom: 0;left: 50%;}#sk-c1cde46d-4514-4fb8-afee-e5751c284e84 div.sk-serial {display: flex;flex-direction: column;align-items: center;background-color: white;padding-right: 0.2em;padding-left: 0.2em;}#sk-c1cde46d-4514-4fb8-afee-e5751c284e84 div.sk-item {z-index: 1;}#sk-c1cde46d-4514-4fb8-afee-e5751c284e84 div.sk-parallel {display: flex;align-items: stretch;justify-content: center;background-color: white;}#sk-c1cde46d-4514-4fb8-afee-e5751c284e84 div.sk-parallel::before {content: \"\";position: absolute;border-left: 1px solid gray;box-sizing: border-box;top: 2em;bottom: 0;left: 50%;}#sk-c1cde46d-4514-4fb8-afee-e5751c284e84 div.sk-parallel-item {display: flex;flex-direction: column;position: relative;background-color: white;}#sk-c1cde46d-4514-4fb8-afee-e5751c284e84 div.sk-parallel-item:first-child::after {align-self: flex-end;width: 50%;}#sk-c1cde46d-4514-4fb8-afee-e5751c284e84 div.sk-parallel-item:last-child::after {align-self: flex-start;width: 50%;}#sk-c1cde46d-4514-4fb8-afee-e5751c284e84 div.sk-parallel-item:only-child::after {width: 0;}#sk-c1cde46d-4514-4fb8-afee-e5751c284e84 div.sk-dashed-wrapped {border: 1px dashed gray;margin: 0 0.4em 0.5em 0.4em;box-sizing: border-box;padding-bottom: 0.4em;background-color: white;position: relative;}#sk-c1cde46d-4514-4fb8-afee-e5751c284e84 div.sk-label label {font-family: monospace;font-weight: bold;background-color: white;display: inline-block;line-height: 1.2em;}#sk-c1cde46d-4514-4fb8-afee-e5751c284e84 div.sk-label-container {position: relative;z-index: 2;text-align: center;}#sk-c1cde46d-4514-4fb8-afee-e5751c284e84 div.sk-container {/* jupyter's `normalize.less` sets `[hidden] { display: none; }` but bootstrap.min.css set `[hidden] { display: none !important; }` so we also need the `!important` here to be able to override the default hidden behavior on the sphinx rendered scikit-learn.org. See: https://github.com/scikit-learn/scikit-learn/issues/21755 */display: inline-block !important;position: relative;}#sk-c1cde46d-4514-4fb8-afee-e5751c284e84 div.sk-text-repr-fallback {display: none;}</style><div id=\"sk-c1cde46d-4514-4fb8-afee-e5751c284e84\" class=\"sk-top-container\"><div class=\"sk-text-repr-fallback\"><pre>Pipeline(steps=[(&#x27;randomforestregressor&#x27;, RandomForestRegressor())])</pre><b>Please rerun this cell to show the HTML repr or trust the notebook.</b></div><div class=\"sk-container\" hidden><div class=\"sk-item sk-dashed-wrapped\"><div class=\"sk-label-container\"><div class=\"sk-label sk-toggleable\"><input class=\"sk-toggleable__control sk-hidden--visually\" id=\"96b1dca6-7a82-4b6a-9123-bd1b2d861b20\" type=\"checkbox\" ><label for=\"96b1dca6-7a82-4b6a-9123-bd1b2d861b20\" class=\"sk-toggleable__label sk-toggleable__label-arrow\">Pipeline</label><div class=\"sk-toggleable__content\"><pre>Pipeline(steps=[(&#x27;randomforestregressor&#x27;, RandomForestRegressor())])</pre></div></div></div><div class=\"sk-serial\"><div class=\"sk-item\"><div class=\"sk-estimator sk-toggleable\"><input class=\"sk-toggleable__control sk-hidden--visually\" id=\"3348aa85-7f6c-4cf1-a13d-46eca18194c7\" type=\"checkbox\" ><label for=\"3348aa85-7f6c-4cf1-a13d-46eca18194c7\" class=\"sk-toggleable__label sk-toggleable__label-arrow\">RandomForestRegressor</label><div class=\"sk-toggleable__content\"><pre>RandomForestRegressor()</pre></div></div></div></div></div></div></div>"
      ],
      "text/plain": [
       "Pipeline(steps=[('randomforestregressor', RandomForestRegressor())])"
      ]
     },
     "execution_count": 15,
     "metadata": {},
     "output_type": "execute_result"
    }
   ],
   "source": [
    "pipe = make_pipeline(RandomForestRegressor())\n",
    "pipe.fit(x_train, y_train)"
   ]
  },
  {
   "cell_type": "code",
   "execution_count": 16,
   "id": "a9d081df",
   "metadata": {},
   "outputs": [],
   "source": [
    "y_pred_RF = pipe.predict(x_test)"
   ]
  },
  {
   "cell_type": "code",
   "execution_count": 17,
   "id": "7fa2f8ab",
   "metadata": {},
   "outputs": [
    {
     "name": "stdout",
     "output_type": "stream",
     "text": [
      "Mean Absolute Error: 0.008807308935948244\n",
      "Mean Squared Error: 0.00020636336339589233\n",
      "Root Mean Squared Error: 0.01436535288100826\n",
      "R_Squared: 0.9600742036609531\n"
     ]
    }
   ],
   "source": [
    "print('Mean Absolute Error:', mean_absolute_error(y_test, y_pred_RF))\n",
    "print('Mean Squared Error:', mean_squared_error(y_test, y_pred_RF))\n",
    "print('Root Mean Squared Error:', np.sqrt(mean_squared_error(y_test, y_pred_RF)))\n",
    "print ('R_Squared:', r2_score(y_test, y_pred_RF))"
   ]
  },
  {
   "cell_type": "code",
   "execution_count": 18,
   "id": "3ec0721b",
   "metadata": {},
   "outputs": [
    {
     "data": {
      "text/html": [
       "<style>#sk-166f41bf-d8b0-4f63-a2e0-62e71c869aad {color: black;background-color: white;}#sk-166f41bf-d8b0-4f63-a2e0-62e71c869aad pre{padding: 0;}#sk-166f41bf-d8b0-4f63-a2e0-62e71c869aad div.sk-toggleable {background-color: white;}#sk-166f41bf-d8b0-4f63-a2e0-62e71c869aad label.sk-toggleable__label {cursor: pointer;display: block;width: 100%;margin-bottom: 0;padding: 0.3em;box-sizing: border-box;text-align: center;}#sk-166f41bf-d8b0-4f63-a2e0-62e71c869aad label.sk-toggleable__label-arrow:before {content: \"▸\";float: left;margin-right: 0.25em;color: #696969;}#sk-166f41bf-d8b0-4f63-a2e0-62e71c869aad label.sk-toggleable__label-arrow:hover:before {color: black;}#sk-166f41bf-d8b0-4f63-a2e0-62e71c869aad div.sk-estimator:hover label.sk-toggleable__label-arrow:before {color: black;}#sk-166f41bf-d8b0-4f63-a2e0-62e71c869aad div.sk-toggleable__content {max-height: 0;max-width: 0;overflow: hidden;text-align: left;background-color: #f0f8ff;}#sk-166f41bf-d8b0-4f63-a2e0-62e71c869aad div.sk-toggleable__content pre {margin: 0.2em;color: black;border-radius: 0.25em;background-color: #f0f8ff;}#sk-166f41bf-d8b0-4f63-a2e0-62e71c869aad input.sk-toggleable__control:checked~div.sk-toggleable__content {max-height: 200px;max-width: 100%;overflow: auto;}#sk-166f41bf-d8b0-4f63-a2e0-62e71c869aad input.sk-toggleable__control:checked~label.sk-toggleable__label-arrow:before {content: \"▾\";}#sk-166f41bf-d8b0-4f63-a2e0-62e71c869aad div.sk-estimator input.sk-toggleable__control:checked~label.sk-toggleable__label {background-color: #d4ebff;}#sk-166f41bf-d8b0-4f63-a2e0-62e71c869aad div.sk-label input.sk-toggleable__control:checked~label.sk-toggleable__label {background-color: #d4ebff;}#sk-166f41bf-d8b0-4f63-a2e0-62e71c869aad input.sk-hidden--visually {border: 0;clip: rect(1px 1px 1px 1px);clip: rect(1px, 1px, 1px, 1px);height: 1px;margin: -1px;overflow: hidden;padding: 0;position: absolute;width: 1px;}#sk-166f41bf-d8b0-4f63-a2e0-62e71c869aad div.sk-estimator {font-family: monospace;background-color: #f0f8ff;border: 1px dotted black;border-radius: 0.25em;box-sizing: border-box;margin-bottom: 0.5em;}#sk-166f41bf-d8b0-4f63-a2e0-62e71c869aad div.sk-estimator:hover {background-color: #d4ebff;}#sk-166f41bf-d8b0-4f63-a2e0-62e71c869aad div.sk-parallel-item::after {content: \"\";width: 100%;border-bottom: 1px solid gray;flex-grow: 1;}#sk-166f41bf-d8b0-4f63-a2e0-62e71c869aad div.sk-label:hover label.sk-toggleable__label {background-color: #d4ebff;}#sk-166f41bf-d8b0-4f63-a2e0-62e71c869aad div.sk-serial::before {content: \"\";position: absolute;border-left: 1px solid gray;box-sizing: border-box;top: 2em;bottom: 0;left: 50%;}#sk-166f41bf-d8b0-4f63-a2e0-62e71c869aad div.sk-serial {display: flex;flex-direction: column;align-items: center;background-color: white;padding-right: 0.2em;padding-left: 0.2em;}#sk-166f41bf-d8b0-4f63-a2e0-62e71c869aad div.sk-item {z-index: 1;}#sk-166f41bf-d8b0-4f63-a2e0-62e71c869aad div.sk-parallel {display: flex;align-items: stretch;justify-content: center;background-color: white;}#sk-166f41bf-d8b0-4f63-a2e0-62e71c869aad div.sk-parallel::before {content: \"\";position: absolute;border-left: 1px solid gray;box-sizing: border-box;top: 2em;bottom: 0;left: 50%;}#sk-166f41bf-d8b0-4f63-a2e0-62e71c869aad div.sk-parallel-item {display: flex;flex-direction: column;position: relative;background-color: white;}#sk-166f41bf-d8b0-4f63-a2e0-62e71c869aad div.sk-parallel-item:first-child::after {align-self: flex-end;width: 50%;}#sk-166f41bf-d8b0-4f63-a2e0-62e71c869aad div.sk-parallel-item:last-child::after {align-self: flex-start;width: 50%;}#sk-166f41bf-d8b0-4f63-a2e0-62e71c869aad div.sk-parallel-item:only-child::after {width: 0;}#sk-166f41bf-d8b0-4f63-a2e0-62e71c869aad div.sk-dashed-wrapped {border: 1px dashed gray;margin: 0 0.4em 0.5em 0.4em;box-sizing: border-box;padding-bottom: 0.4em;background-color: white;position: relative;}#sk-166f41bf-d8b0-4f63-a2e0-62e71c869aad div.sk-label label {font-family: monospace;font-weight: bold;background-color: white;display: inline-block;line-height: 1.2em;}#sk-166f41bf-d8b0-4f63-a2e0-62e71c869aad div.sk-label-container {position: relative;z-index: 2;text-align: center;}#sk-166f41bf-d8b0-4f63-a2e0-62e71c869aad div.sk-container {/* jupyter's `normalize.less` sets `[hidden] { display: none; }` but bootstrap.min.css set `[hidden] { display: none !important; }` so we also need the `!important` here to be able to override the default hidden behavior on the sphinx rendered scikit-learn.org. See: https://github.com/scikit-learn/scikit-learn/issues/21755 */display: inline-block !important;position: relative;}#sk-166f41bf-d8b0-4f63-a2e0-62e71c869aad div.sk-text-repr-fallback {display: none;}</style><div id=\"sk-166f41bf-d8b0-4f63-a2e0-62e71c869aad\" class=\"sk-top-container\"><div class=\"sk-text-repr-fallback\"><pre>Pipeline(steps=[(&#x27;gradientboostingregressor&#x27;, GradientBoostingRegressor())])</pre><b>Please rerun this cell to show the HTML repr or trust the notebook.</b></div><div class=\"sk-container\" hidden><div class=\"sk-item sk-dashed-wrapped\"><div class=\"sk-label-container\"><div class=\"sk-label sk-toggleable\"><input class=\"sk-toggleable__control sk-hidden--visually\" id=\"04c82233-dc76-4877-aebe-eeed40506f99\" type=\"checkbox\" ><label for=\"04c82233-dc76-4877-aebe-eeed40506f99\" class=\"sk-toggleable__label sk-toggleable__label-arrow\">Pipeline</label><div class=\"sk-toggleable__content\"><pre>Pipeline(steps=[(&#x27;gradientboostingregressor&#x27;, GradientBoostingRegressor())])</pre></div></div></div><div class=\"sk-serial\"><div class=\"sk-item\"><div class=\"sk-estimator sk-toggleable\"><input class=\"sk-toggleable__control sk-hidden--visually\" id=\"5c200a24-aea4-41a6-b05b-6eb8a51bbf02\" type=\"checkbox\" ><label for=\"5c200a24-aea4-41a6-b05b-6eb8a51bbf02\" class=\"sk-toggleable__label sk-toggleable__label-arrow\">GradientBoostingRegressor</label><div class=\"sk-toggleable__content\"><pre>GradientBoostingRegressor()</pre></div></div></div></div></div></div></div>"
      ],
      "text/plain": [
       "Pipeline(steps=[('gradientboostingregressor', GradientBoostingRegressor())])"
      ]
     },
     "execution_count": 18,
     "metadata": {},
     "output_type": "execute_result"
    }
   ],
   "source": [
    "pipe = make_pipeline(GradientBoostingRegressor())\n",
    "pipe.fit(x_train, y_train)"
   ]
  },
  {
   "cell_type": "code",
   "execution_count": 19,
   "id": "4ccd4d36",
   "metadata": {},
   "outputs": [],
   "source": [
    "y_pred_GBR = pipe.predict(x_test)"
   ]
  },
  {
   "cell_type": "code",
   "execution_count": 20,
   "id": "18c7dab0",
   "metadata": {},
   "outputs": [
    {
     "name": "stdout",
     "output_type": "stream",
     "text": [
      "Mean Absolute Error: 0.006612592601215617\n",
      "Mean Squared Error: 0.00011060735854646112\n",
      "Root Mean Squared Error: 0.010517003306382533\n",
      "R_Squared: 0.9786004317905305\n"
     ]
    }
   ],
   "source": [
    "print('Mean Absolute Error:', mean_absolute_error(y_test, y_pred_GBR))\n",
    "print('Mean Squared Error:', mean_squared_error(y_test, y_pred_GBR))\n",
    "print('Root Mean Squared Error:', np.sqrt(mean_squared_error(y_test, y_pred_GBR)))\n",
    "print ('R_Squared:', r2_score(y_test, y_pred_GBR))"
   ]
  },
  {
   "cell_type": "markdown",
   "id": "b3d95ae4",
   "metadata": {},
   "source": [
    "# Поиск по сетке с использованием конвейера "
   ]
  },
  {
   "cell_type": "markdown",
   "id": "06af8023",
   "metadata": {},
   "source": [
    "# kNN"
   ]
  },
  {
   "cell_type": "code",
   "execution_count": 21,
   "id": "8176789c",
   "metadata": {},
   "outputs": [],
   "source": [
    "pipe = make_pipeline( KNeighborsRegressor())"
   ]
  },
  {
   "cell_type": "markdown",
   "id": "8d2d6198",
   "metadata": {},
   "source": [
    "Определяем параметры"
   ]
  },
  {
   "cell_type": "code",
   "execution_count": 22,
   "id": "3ffc7ed9",
   "metadata": {},
   "outputs": [],
   "source": [
    "param_grid = {\n",
    "    \"kneighborsregressor__n_neighbors\": [3, 5, 8, 12, 15],\n",
    "    \"kneighborsregressor__weights\": [\"uniform\", \"distance\"],\n",
    "}"
   ]
  },
  {
   "cell_type": "code",
   "execution_count": 23,
   "id": "a15887d5",
   "metadata": {},
   "outputs": [],
   "source": [
    "grid = GridSearchCV(pipe, param_grid=param_grid, scoring=\"neg_mean_squared_error\", cv=5)"
   ]
  },
  {
   "cell_type": "code",
   "execution_count": 24,
   "id": "b2b09fb3",
   "metadata": {},
   "outputs": [
    {
     "data": {
      "text/html": [
       "<style>#sk-f6685109-fa0a-4183-913e-2be7f161d282 {color: black;background-color: white;}#sk-f6685109-fa0a-4183-913e-2be7f161d282 pre{padding: 0;}#sk-f6685109-fa0a-4183-913e-2be7f161d282 div.sk-toggleable {background-color: white;}#sk-f6685109-fa0a-4183-913e-2be7f161d282 label.sk-toggleable__label {cursor: pointer;display: block;width: 100%;margin-bottom: 0;padding: 0.3em;box-sizing: border-box;text-align: center;}#sk-f6685109-fa0a-4183-913e-2be7f161d282 label.sk-toggleable__label-arrow:before {content: \"▸\";float: left;margin-right: 0.25em;color: #696969;}#sk-f6685109-fa0a-4183-913e-2be7f161d282 label.sk-toggleable__label-arrow:hover:before {color: black;}#sk-f6685109-fa0a-4183-913e-2be7f161d282 div.sk-estimator:hover label.sk-toggleable__label-arrow:before {color: black;}#sk-f6685109-fa0a-4183-913e-2be7f161d282 div.sk-toggleable__content {max-height: 0;max-width: 0;overflow: hidden;text-align: left;background-color: #f0f8ff;}#sk-f6685109-fa0a-4183-913e-2be7f161d282 div.sk-toggleable__content pre {margin: 0.2em;color: black;border-radius: 0.25em;background-color: #f0f8ff;}#sk-f6685109-fa0a-4183-913e-2be7f161d282 input.sk-toggleable__control:checked~div.sk-toggleable__content {max-height: 200px;max-width: 100%;overflow: auto;}#sk-f6685109-fa0a-4183-913e-2be7f161d282 input.sk-toggleable__control:checked~label.sk-toggleable__label-arrow:before {content: \"▾\";}#sk-f6685109-fa0a-4183-913e-2be7f161d282 div.sk-estimator input.sk-toggleable__control:checked~label.sk-toggleable__label {background-color: #d4ebff;}#sk-f6685109-fa0a-4183-913e-2be7f161d282 div.sk-label input.sk-toggleable__control:checked~label.sk-toggleable__label {background-color: #d4ebff;}#sk-f6685109-fa0a-4183-913e-2be7f161d282 input.sk-hidden--visually {border: 0;clip: rect(1px 1px 1px 1px);clip: rect(1px, 1px, 1px, 1px);height: 1px;margin: -1px;overflow: hidden;padding: 0;position: absolute;width: 1px;}#sk-f6685109-fa0a-4183-913e-2be7f161d282 div.sk-estimator {font-family: monospace;background-color: #f0f8ff;border: 1px dotted black;border-radius: 0.25em;box-sizing: border-box;margin-bottom: 0.5em;}#sk-f6685109-fa0a-4183-913e-2be7f161d282 div.sk-estimator:hover {background-color: #d4ebff;}#sk-f6685109-fa0a-4183-913e-2be7f161d282 div.sk-parallel-item::after {content: \"\";width: 100%;border-bottom: 1px solid gray;flex-grow: 1;}#sk-f6685109-fa0a-4183-913e-2be7f161d282 div.sk-label:hover label.sk-toggleable__label {background-color: #d4ebff;}#sk-f6685109-fa0a-4183-913e-2be7f161d282 div.sk-serial::before {content: \"\";position: absolute;border-left: 1px solid gray;box-sizing: border-box;top: 2em;bottom: 0;left: 50%;}#sk-f6685109-fa0a-4183-913e-2be7f161d282 div.sk-serial {display: flex;flex-direction: column;align-items: center;background-color: white;padding-right: 0.2em;padding-left: 0.2em;}#sk-f6685109-fa0a-4183-913e-2be7f161d282 div.sk-item {z-index: 1;}#sk-f6685109-fa0a-4183-913e-2be7f161d282 div.sk-parallel {display: flex;align-items: stretch;justify-content: center;background-color: white;}#sk-f6685109-fa0a-4183-913e-2be7f161d282 div.sk-parallel::before {content: \"\";position: absolute;border-left: 1px solid gray;box-sizing: border-box;top: 2em;bottom: 0;left: 50%;}#sk-f6685109-fa0a-4183-913e-2be7f161d282 div.sk-parallel-item {display: flex;flex-direction: column;position: relative;background-color: white;}#sk-f6685109-fa0a-4183-913e-2be7f161d282 div.sk-parallel-item:first-child::after {align-self: flex-end;width: 50%;}#sk-f6685109-fa0a-4183-913e-2be7f161d282 div.sk-parallel-item:last-child::after {align-self: flex-start;width: 50%;}#sk-f6685109-fa0a-4183-913e-2be7f161d282 div.sk-parallel-item:only-child::after {width: 0;}#sk-f6685109-fa0a-4183-913e-2be7f161d282 div.sk-dashed-wrapped {border: 1px dashed gray;margin: 0 0.4em 0.5em 0.4em;box-sizing: border-box;padding-bottom: 0.4em;background-color: white;position: relative;}#sk-f6685109-fa0a-4183-913e-2be7f161d282 div.sk-label label {font-family: monospace;font-weight: bold;background-color: white;display: inline-block;line-height: 1.2em;}#sk-f6685109-fa0a-4183-913e-2be7f161d282 div.sk-label-container {position: relative;z-index: 2;text-align: center;}#sk-f6685109-fa0a-4183-913e-2be7f161d282 div.sk-container {/* jupyter's `normalize.less` sets `[hidden] { display: none; }` but bootstrap.min.css set `[hidden] { display: none !important; }` so we also need the `!important` here to be able to override the default hidden behavior on the sphinx rendered scikit-learn.org. See: https://github.com/scikit-learn/scikit-learn/issues/21755 */display: inline-block !important;position: relative;}#sk-f6685109-fa0a-4183-913e-2be7f161d282 div.sk-text-repr-fallback {display: none;}</style><div id=\"sk-f6685109-fa0a-4183-913e-2be7f161d282\" class=\"sk-top-container\"><div class=\"sk-text-repr-fallback\"><pre>GridSearchCV(cv=5,\n",
       "             estimator=Pipeline(steps=[(&#x27;kneighborsregressor&#x27;,\n",
       "                                        KNeighborsRegressor())]),\n",
       "             param_grid={&#x27;kneighborsregressor__n_neighbors&#x27;: [3, 5, 8, 12, 15],\n",
       "                         &#x27;kneighborsregressor__weights&#x27;: [&#x27;uniform&#x27;,\n",
       "                                                          &#x27;distance&#x27;]},\n",
       "             scoring=&#x27;neg_mean_squared_error&#x27;)</pre><b>Please rerun this cell to show the HTML repr or trust the notebook.</b></div><div class=\"sk-container\" hidden><div class=\"sk-item sk-dashed-wrapped\"><div class=\"sk-label-container\"><div class=\"sk-label sk-toggleable\"><input class=\"sk-toggleable__control sk-hidden--visually\" id=\"8f509abd-89e7-4253-834c-68d6772e466b\" type=\"checkbox\" ><label for=\"8f509abd-89e7-4253-834c-68d6772e466b\" class=\"sk-toggleable__label sk-toggleable__label-arrow\">GridSearchCV</label><div class=\"sk-toggleable__content\"><pre>GridSearchCV(cv=5,\n",
       "             estimator=Pipeline(steps=[(&#x27;kneighborsregressor&#x27;,\n",
       "                                        KNeighborsRegressor())]),\n",
       "             param_grid={&#x27;kneighborsregressor__n_neighbors&#x27;: [3, 5, 8, 12, 15],\n",
       "                         &#x27;kneighborsregressor__weights&#x27;: [&#x27;uniform&#x27;,\n",
       "                                                          &#x27;distance&#x27;]},\n",
       "             scoring=&#x27;neg_mean_squared_error&#x27;)</pre></div></div></div><div class=\"sk-parallel\"><div class=\"sk-parallel-item\"><div class=\"sk-item\"><div class=\"sk-serial\"><div class=\"sk-item\"><div class=\"sk-serial\"><div class=\"sk-item\"><div class=\"sk-estimator sk-toggleable\"><input class=\"sk-toggleable__control sk-hidden--visually\" id=\"7ddbc32f-172b-4a30-ab83-9bbcff5c8436\" type=\"checkbox\" ><label for=\"7ddbc32f-172b-4a30-ab83-9bbcff5c8436\" class=\"sk-toggleable__label sk-toggleable__label-arrow\">KNeighborsRegressor</label><div class=\"sk-toggleable__content\"><pre>KNeighborsRegressor()</pre></div></div></div></div></div></div></div></div></div></div></div></div>"
      ],
      "text/plain": [
       "GridSearchCV(cv=5,\n",
       "             estimator=Pipeline(steps=[('kneighborsregressor',\n",
       "                                        KNeighborsRegressor())]),\n",
       "             param_grid={'kneighborsregressor__n_neighbors': [3, 5, 8, 12, 15],\n",
       "                         'kneighborsregressor__weights': ['uniform',\n",
       "                                                          'distance']},\n",
       "             scoring='neg_mean_squared_error')"
      ]
     },
     "execution_count": 24,
     "metadata": {},
     "output_type": "execute_result"
    }
   ],
   "source": [
    "grid.fit(x_train, y_train)"
   ]
  },
  {
   "cell_type": "code",
   "execution_count": 27,
   "id": "957659f8",
   "metadata": {},
   "outputs": [],
   "source": [
    "y_pred_knn = grid.predict(x_test)"
   ]
  },
  {
   "cell_type": "code",
   "execution_count": 30,
   "id": "e7ff19a2",
   "metadata": {},
   "outputs": [
    {
     "name": "stdout",
     "output_type": "stream",
     "text": [
      "Mean Absolute Error: 0.010234475017259818\n",
      "Mean Squared Error: 0.0002799610558017675\n",
      "Root Mean Squared Error: 0.01673203680971828\n",
      "R_Squared: 0.945835016870885\n"
     ]
    }
   ],
   "source": [
    "print('Mean Absolute Error:', mean_absolute_error(y_test, y_pred_knn))\n",
    "print('Mean Squared Error:', mean_squared_error(y_test, y_pred_knn))\n",
    "print('Root Mean Squared Error:', np.sqrt(mean_squared_error(y_test, y_pred_knn)))\n",
    "print ('R_Squared:', r2_score(y_test, y_pred_knn))"
   ]
  },
  {
   "cell_type": "code",
   "execution_count": 31,
   "id": "8d6f6eb8",
   "metadata": {
    "scrolled": true
   },
   "outputs": [
    {
     "name": "stdout",
     "output_type": "stream",
     "text": [
      "Pipeline(steps=[('kneighborsregressor',\n",
      "                 KNeighborsRegressor(weights='distance'))])\n"
     ]
    }
   ],
   "source": [
    "print(grid.best_estimator_)"
   ]
  },
  {
   "cell_type": "markdown",
   "id": "734f299f",
   "metadata": {},
   "source": [
    "# DecisionTreeRegressor"
   ]
  },
  {
   "cell_type": "code",
   "execution_count": 68,
   "id": "e5a4c588",
   "metadata": {},
   "outputs": [],
   "source": [
    "pipe = make_pipeline(DecisionTreeRegressor())"
   ]
  },
  {
   "cell_type": "code",
   "execution_count": 69,
   "id": "2cf77e12",
   "metadata": {},
   "outputs": [],
   "source": [
    "criterion = ['squared_error', 'friedman_mse', 'absolute_error', 'poisson']\n",
    "splitter = ['best', 'random']\n",
    "max_depth = [3,5,7,9,11]\n",
    "min_samples_leaf = [100,150,200]\n",
    "min_samples_split = [200,250,300]\n",
    "max_features = ['auto', 'sqrt', 'log2']"
   ]
  },
  {
   "cell_type": "code",
   "execution_count": 70,
   "id": "369e09f4",
   "metadata": {},
   "outputs": [],
   "source": [
    "param_grid = {'decisiontreeregressor__criterion': criterion,\n",
    "              'decisiontreeregressor__splitter': splitter,\n",
    "              'decisiontreeregressor__max_depth': max_depth,\n",
    "              'decisiontreeregressor__min_samples_split': min_samples_split,\n",
    "              'decisiontreeregressor__min_samples_leaf': min_samples_leaf,\n",
    "              'decisiontreeregressor__max_features': max_features}"
   ]
  },
  {
   "cell_type": "code",
   "execution_count": 71,
   "id": "c175de3f",
   "metadata": {},
   "outputs": [],
   "source": [
    "grid_DTR = GridSearchCV(pipe, param_grid=param_grid, scoring=\"neg_mean_squared_error\", cv=5)"
   ]
  },
  {
   "cell_type": "code",
   "execution_count": 72,
   "id": "83fae792",
   "metadata": {},
   "outputs": [
    {
     "data": {
      "text/html": [
       "<style>#sk-b123c4f1-4e10-4cc3-a68b-09fcff185ead {color: black;background-color: white;}#sk-b123c4f1-4e10-4cc3-a68b-09fcff185ead pre{padding: 0;}#sk-b123c4f1-4e10-4cc3-a68b-09fcff185ead div.sk-toggleable {background-color: white;}#sk-b123c4f1-4e10-4cc3-a68b-09fcff185ead label.sk-toggleable__label {cursor: pointer;display: block;width: 100%;margin-bottom: 0;padding: 0.3em;box-sizing: border-box;text-align: center;}#sk-b123c4f1-4e10-4cc3-a68b-09fcff185ead label.sk-toggleable__label-arrow:before {content: \"▸\";float: left;margin-right: 0.25em;color: #696969;}#sk-b123c4f1-4e10-4cc3-a68b-09fcff185ead label.sk-toggleable__label-arrow:hover:before {color: black;}#sk-b123c4f1-4e10-4cc3-a68b-09fcff185ead div.sk-estimator:hover label.sk-toggleable__label-arrow:before {color: black;}#sk-b123c4f1-4e10-4cc3-a68b-09fcff185ead div.sk-toggleable__content {max-height: 0;max-width: 0;overflow: hidden;text-align: left;background-color: #f0f8ff;}#sk-b123c4f1-4e10-4cc3-a68b-09fcff185ead div.sk-toggleable__content pre {margin: 0.2em;color: black;border-radius: 0.25em;background-color: #f0f8ff;}#sk-b123c4f1-4e10-4cc3-a68b-09fcff185ead input.sk-toggleable__control:checked~div.sk-toggleable__content {max-height: 200px;max-width: 100%;overflow: auto;}#sk-b123c4f1-4e10-4cc3-a68b-09fcff185ead input.sk-toggleable__control:checked~label.sk-toggleable__label-arrow:before {content: \"▾\";}#sk-b123c4f1-4e10-4cc3-a68b-09fcff185ead div.sk-estimator input.sk-toggleable__control:checked~label.sk-toggleable__label {background-color: #d4ebff;}#sk-b123c4f1-4e10-4cc3-a68b-09fcff185ead div.sk-label input.sk-toggleable__control:checked~label.sk-toggleable__label {background-color: #d4ebff;}#sk-b123c4f1-4e10-4cc3-a68b-09fcff185ead input.sk-hidden--visually {border: 0;clip: rect(1px 1px 1px 1px);clip: rect(1px, 1px, 1px, 1px);height: 1px;margin: -1px;overflow: hidden;padding: 0;position: absolute;width: 1px;}#sk-b123c4f1-4e10-4cc3-a68b-09fcff185ead div.sk-estimator {font-family: monospace;background-color: #f0f8ff;border: 1px dotted black;border-radius: 0.25em;box-sizing: border-box;margin-bottom: 0.5em;}#sk-b123c4f1-4e10-4cc3-a68b-09fcff185ead div.sk-estimator:hover {background-color: #d4ebff;}#sk-b123c4f1-4e10-4cc3-a68b-09fcff185ead div.sk-parallel-item::after {content: \"\";width: 100%;border-bottom: 1px solid gray;flex-grow: 1;}#sk-b123c4f1-4e10-4cc3-a68b-09fcff185ead div.sk-label:hover label.sk-toggleable__label {background-color: #d4ebff;}#sk-b123c4f1-4e10-4cc3-a68b-09fcff185ead div.sk-serial::before {content: \"\";position: absolute;border-left: 1px solid gray;box-sizing: border-box;top: 2em;bottom: 0;left: 50%;}#sk-b123c4f1-4e10-4cc3-a68b-09fcff185ead div.sk-serial {display: flex;flex-direction: column;align-items: center;background-color: white;padding-right: 0.2em;padding-left: 0.2em;}#sk-b123c4f1-4e10-4cc3-a68b-09fcff185ead div.sk-item {z-index: 1;}#sk-b123c4f1-4e10-4cc3-a68b-09fcff185ead div.sk-parallel {display: flex;align-items: stretch;justify-content: center;background-color: white;}#sk-b123c4f1-4e10-4cc3-a68b-09fcff185ead div.sk-parallel::before {content: \"\";position: absolute;border-left: 1px solid gray;box-sizing: border-box;top: 2em;bottom: 0;left: 50%;}#sk-b123c4f1-4e10-4cc3-a68b-09fcff185ead div.sk-parallel-item {display: flex;flex-direction: column;position: relative;background-color: white;}#sk-b123c4f1-4e10-4cc3-a68b-09fcff185ead div.sk-parallel-item:first-child::after {align-self: flex-end;width: 50%;}#sk-b123c4f1-4e10-4cc3-a68b-09fcff185ead div.sk-parallel-item:last-child::after {align-self: flex-start;width: 50%;}#sk-b123c4f1-4e10-4cc3-a68b-09fcff185ead div.sk-parallel-item:only-child::after {width: 0;}#sk-b123c4f1-4e10-4cc3-a68b-09fcff185ead div.sk-dashed-wrapped {border: 1px dashed gray;margin: 0 0.4em 0.5em 0.4em;box-sizing: border-box;padding-bottom: 0.4em;background-color: white;position: relative;}#sk-b123c4f1-4e10-4cc3-a68b-09fcff185ead div.sk-label label {font-family: monospace;font-weight: bold;background-color: white;display: inline-block;line-height: 1.2em;}#sk-b123c4f1-4e10-4cc3-a68b-09fcff185ead div.sk-label-container {position: relative;z-index: 2;text-align: center;}#sk-b123c4f1-4e10-4cc3-a68b-09fcff185ead div.sk-container {/* jupyter's `normalize.less` sets `[hidden] { display: none; }` but bootstrap.min.css set `[hidden] { display: none !important; }` so we also need the `!important` here to be able to override the default hidden behavior on the sphinx rendered scikit-learn.org. See: https://github.com/scikit-learn/scikit-learn/issues/21755 */display: inline-block !important;position: relative;}#sk-b123c4f1-4e10-4cc3-a68b-09fcff185ead div.sk-text-repr-fallback {display: none;}</style><div id=\"sk-b123c4f1-4e10-4cc3-a68b-09fcff185ead\" class=\"sk-top-container\"><div class=\"sk-text-repr-fallback\"><pre>GridSearchCV(cv=5,\n",
       "             estimator=Pipeline(steps=[(&#x27;decisiontreeregressor&#x27;,\n",
       "                                        DecisionTreeRegressor())]),\n",
       "             param_grid={&#x27;decisiontreeregressor__criterion&#x27;: [&#x27;squared_error&#x27;,\n",
       "                                                              &#x27;friedman_mse&#x27;,\n",
       "                                                              &#x27;absolute_error&#x27;,\n",
       "                                                              &#x27;poisson&#x27;],\n",
       "                         &#x27;decisiontreeregressor__max_depth&#x27;: [3, 5, 7, 9, 11],\n",
       "                         &#x27;decisiontreeregressor__max_features&#x27;: [&#x27;auto&#x27;, &#x27;sqrt&#x27;,\n",
       "                                                                 &#x27;log2&#x27;],\n",
       "                         &#x27;decisiontreeregressor__min_samples_leaf&#x27;: [100, 150,\n",
       "                                                                     200],\n",
       "                         &#x27;decisiontreeregressor__min_samples_split&#x27;: [200, 250,\n",
       "                                                                      300],\n",
       "                         &#x27;decisiontreeregressor__splitter&#x27;: [&#x27;best&#x27;, &#x27;random&#x27;]},\n",
       "             scoring=&#x27;neg_mean_squared_error&#x27;)</pre><b>Please rerun this cell to show the HTML repr or trust the notebook.</b></div><div class=\"sk-container\" hidden><div class=\"sk-item sk-dashed-wrapped\"><div class=\"sk-label-container\"><div class=\"sk-label sk-toggleable\"><input class=\"sk-toggleable__control sk-hidden--visually\" id=\"af7107fd-7c2e-49d8-81cf-26161c9a5935\" type=\"checkbox\" ><label for=\"af7107fd-7c2e-49d8-81cf-26161c9a5935\" class=\"sk-toggleable__label sk-toggleable__label-arrow\">GridSearchCV</label><div class=\"sk-toggleable__content\"><pre>GridSearchCV(cv=5,\n",
       "             estimator=Pipeline(steps=[(&#x27;decisiontreeregressor&#x27;,\n",
       "                                        DecisionTreeRegressor())]),\n",
       "             param_grid={&#x27;decisiontreeregressor__criterion&#x27;: [&#x27;squared_error&#x27;,\n",
       "                                                              &#x27;friedman_mse&#x27;,\n",
       "                                                              &#x27;absolute_error&#x27;,\n",
       "                                                              &#x27;poisson&#x27;],\n",
       "                         &#x27;decisiontreeregressor__max_depth&#x27;: [3, 5, 7, 9, 11],\n",
       "                         &#x27;decisiontreeregressor__max_features&#x27;: [&#x27;auto&#x27;, &#x27;sqrt&#x27;,\n",
       "                                                                 &#x27;log2&#x27;],\n",
       "                         &#x27;decisiontreeregressor__min_samples_leaf&#x27;: [100, 150,\n",
       "                                                                     200],\n",
       "                         &#x27;decisiontreeregressor__min_samples_split&#x27;: [200, 250,\n",
       "                                                                      300],\n",
       "                         &#x27;decisiontreeregressor__splitter&#x27;: [&#x27;best&#x27;, &#x27;random&#x27;]},\n",
       "             scoring=&#x27;neg_mean_squared_error&#x27;)</pre></div></div></div><div class=\"sk-parallel\"><div class=\"sk-parallel-item\"><div class=\"sk-item\"><div class=\"sk-serial\"><div class=\"sk-item\"><div class=\"sk-serial\"><div class=\"sk-item\"><div class=\"sk-estimator sk-toggleable\"><input class=\"sk-toggleable__control sk-hidden--visually\" id=\"4684d80a-6ac8-4e25-974a-bbe8b2c554dd\" type=\"checkbox\" ><label for=\"4684d80a-6ac8-4e25-974a-bbe8b2c554dd\" class=\"sk-toggleable__label sk-toggleable__label-arrow\">DecisionTreeRegressor</label><div class=\"sk-toggleable__content\"><pre>DecisionTreeRegressor()</pre></div></div></div></div></div></div></div></div></div></div></div></div>"
      ],
      "text/plain": [
       "GridSearchCV(cv=5,\n",
       "             estimator=Pipeline(steps=[('decisiontreeregressor',\n",
       "                                        DecisionTreeRegressor())]),\n",
       "             param_grid={'decisiontreeregressor__criterion': ['squared_error',\n",
       "                                                              'friedman_mse',\n",
       "                                                              'absolute_error',\n",
       "                                                              'poisson'],\n",
       "                         'decisiontreeregressor__max_depth': [3, 5, 7, 9, 11],\n",
       "                         'decisiontreeregressor__max_features': ['auto', 'sqrt',\n",
       "                                                                 'log2'],\n",
       "                         'decisiontreeregressor__min_samples_leaf': [100, 150,\n",
       "                                                                     200],\n",
       "                         'decisiontreeregressor__min_samples_split': [200, 250,\n",
       "                                                                      300],\n",
       "                         'decisiontreeregressor__splitter': ['best', 'random']},\n",
       "             scoring='neg_mean_squared_error')"
      ]
     },
     "execution_count": 72,
     "metadata": {},
     "output_type": "execute_result"
    }
   ],
   "source": [
    "grid_DTR.fit(x_train, y_train)"
   ]
  },
  {
   "cell_type": "code",
   "execution_count": 74,
   "id": "b59f114a",
   "metadata": {},
   "outputs": [],
   "source": [
    "y_pred_DTR = grid.predict(x_test)"
   ]
  },
  {
   "cell_type": "code",
   "execution_count": 75,
   "id": "70cd92a6",
   "metadata": {},
   "outputs": [
    {
     "name": "stdout",
     "output_type": "stream",
     "text": [
      "Mean Absolute Error: 0.010234475017259818\n",
      "Mean Squared Error: 0.0002799610558017675\n",
      "Root Mean Squared Error: 0.01673203680971828\n",
      "R_Squared: 0.945835016870885\n"
     ]
    }
   ],
   "source": [
    "print('Mean Absolute Error:', mean_absolute_error(y_test, y_pred_DTR))\n",
    "print('Mean Squared Error:', mean_squared_error(y_test, y_pred_DTR))\n",
    "print('Root Mean Squared Error:', np.sqrt(mean_squared_error(y_test, y_pred_DTR)))\n",
    "print ('R_Squared:', r2_score(y_test, y_pred_DTR))"
   ]
  },
  {
   "cell_type": "markdown",
   "id": "80ebe9d0",
   "metadata": {},
   "source": [
    "# pipeline для выбора модели"
   ]
  },
  {
   "cell_type": "code",
   "execution_count": 146,
   "id": "4bb85b47",
   "metadata": {},
   "outputs": [],
   "source": [
    "pipe = Pipeline(\n",
    "    [\n",
    "        \n",
    "        (\"regressor\", RandomForestRegressor()),\n",
    "    ]\n",
    ")"
   ]
  },
  {
   "cell_type": "code",
   "execution_count": 147,
   "id": "bbb2f486",
   "metadata": {},
   "outputs": [],
   "source": [
    "param_grid = {\n",
    "    \n",
    "    \"regressor\": [\n",
    "        KNeighborsRegressor(),\n",
    "        LinearRegression(),\n",
    "        RandomForestRegressor(random_state=42),\n",
    "        DecisionTreeRegressor(random_state=42),\n",
    "        XGBRegressor(random_state=42),\n",
    "    ],\n",
    "}"
   ]
  },
  {
   "cell_type": "code",
   "execution_count": 149,
   "id": "b56f9a8c",
   "metadata": {},
   "outputs": [],
   "source": [
    "grid_pip = GridSearchCV(\n",
    "    pipe,\n",
    "    param_grid=param_grid,\n",
    "    cv=5,\n",
    "    scoring=\"neg_mean_squared_error\",\n",
    "    return_train_score=True,\n",
    ")"
   ]
  },
  {
   "cell_type": "code",
   "execution_count": 152,
   "id": "dc3b5e44",
   "metadata": {},
   "outputs": [
    {
     "data": {
      "text/html": [
       "<style>#sk-2e6b4683-95ed-4616-b57e-fb4ffbbce4b1 {color: black;background-color: white;}#sk-2e6b4683-95ed-4616-b57e-fb4ffbbce4b1 pre{padding: 0;}#sk-2e6b4683-95ed-4616-b57e-fb4ffbbce4b1 div.sk-toggleable {background-color: white;}#sk-2e6b4683-95ed-4616-b57e-fb4ffbbce4b1 label.sk-toggleable__label {cursor: pointer;display: block;width: 100%;margin-bottom: 0;padding: 0.3em;box-sizing: border-box;text-align: center;}#sk-2e6b4683-95ed-4616-b57e-fb4ffbbce4b1 label.sk-toggleable__label-arrow:before {content: \"▸\";float: left;margin-right: 0.25em;color: #696969;}#sk-2e6b4683-95ed-4616-b57e-fb4ffbbce4b1 label.sk-toggleable__label-arrow:hover:before {color: black;}#sk-2e6b4683-95ed-4616-b57e-fb4ffbbce4b1 div.sk-estimator:hover label.sk-toggleable__label-arrow:before {color: black;}#sk-2e6b4683-95ed-4616-b57e-fb4ffbbce4b1 div.sk-toggleable__content {max-height: 0;max-width: 0;overflow: hidden;text-align: left;background-color: #f0f8ff;}#sk-2e6b4683-95ed-4616-b57e-fb4ffbbce4b1 div.sk-toggleable__content pre {margin: 0.2em;color: black;border-radius: 0.25em;background-color: #f0f8ff;}#sk-2e6b4683-95ed-4616-b57e-fb4ffbbce4b1 input.sk-toggleable__control:checked~div.sk-toggleable__content {max-height: 200px;max-width: 100%;overflow: auto;}#sk-2e6b4683-95ed-4616-b57e-fb4ffbbce4b1 input.sk-toggleable__control:checked~label.sk-toggleable__label-arrow:before {content: \"▾\";}#sk-2e6b4683-95ed-4616-b57e-fb4ffbbce4b1 div.sk-estimator input.sk-toggleable__control:checked~label.sk-toggleable__label {background-color: #d4ebff;}#sk-2e6b4683-95ed-4616-b57e-fb4ffbbce4b1 div.sk-label input.sk-toggleable__control:checked~label.sk-toggleable__label {background-color: #d4ebff;}#sk-2e6b4683-95ed-4616-b57e-fb4ffbbce4b1 input.sk-hidden--visually {border: 0;clip: rect(1px 1px 1px 1px);clip: rect(1px, 1px, 1px, 1px);height: 1px;margin: -1px;overflow: hidden;padding: 0;position: absolute;width: 1px;}#sk-2e6b4683-95ed-4616-b57e-fb4ffbbce4b1 div.sk-estimator {font-family: monospace;background-color: #f0f8ff;border: 1px dotted black;border-radius: 0.25em;box-sizing: border-box;margin-bottom: 0.5em;}#sk-2e6b4683-95ed-4616-b57e-fb4ffbbce4b1 div.sk-estimator:hover {background-color: #d4ebff;}#sk-2e6b4683-95ed-4616-b57e-fb4ffbbce4b1 div.sk-parallel-item::after {content: \"\";width: 100%;border-bottom: 1px solid gray;flex-grow: 1;}#sk-2e6b4683-95ed-4616-b57e-fb4ffbbce4b1 div.sk-label:hover label.sk-toggleable__label {background-color: #d4ebff;}#sk-2e6b4683-95ed-4616-b57e-fb4ffbbce4b1 div.sk-serial::before {content: \"\";position: absolute;border-left: 1px solid gray;box-sizing: border-box;top: 2em;bottom: 0;left: 50%;}#sk-2e6b4683-95ed-4616-b57e-fb4ffbbce4b1 div.sk-serial {display: flex;flex-direction: column;align-items: center;background-color: white;padding-right: 0.2em;padding-left: 0.2em;}#sk-2e6b4683-95ed-4616-b57e-fb4ffbbce4b1 div.sk-item {z-index: 1;}#sk-2e6b4683-95ed-4616-b57e-fb4ffbbce4b1 div.sk-parallel {display: flex;align-items: stretch;justify-content: center;background-color: white;}#sk-2e6b4683-95ed-4616-b57e-fb4ffbbce4b1 div.sk-parallel::before {content: \"\";position: absolute;border-left: 1px solid gray;box-sizing: border-box;top: 2em;bottom: 0;left: 50%;}#sk-2e6b4683-95ed-4616-b57e-fb4ffbbce4b1 div.sk-parallel-item {display: flex;flex-direction: column;position: relative;background-color: white;}#sk-2e6b4683-95ed-4616-b57e-fb4ffbbce4b1 div.sk-parallel-item:first-child::after {align-self: flex-end;width: 50%;}#sk-2e6b4683-95ed-4616-b57e-fb4ffbbce4b1 div.sk-parallel-item:last-child::after {align-self: flex-start;width: 50%;}#sk-2e6b4683-95ed-4616-b57e-fb4ffbbce4b1 div.sk-parallel-item:only-child::after {width: 0;}#sk-2e6b4683-95ed-4616-b57e-fb4ffbbce4b1 div.sk-dashed-wrapped {border: 1px dashed gray;margin: 0 0.4em 0.5em 0.4em;box-sizing: border-box;padding-bottom: 0.4em;background-color: white;position: relative;}#sk-2e6b4683-95ed-4616-b57e-fb4ffbbce4b1 div.sk-label label {font-family: monospace;font-weight: bold;background-color: white;display: inline-block;line-height: 1.2em;}#sk-2e6b4683-95ed-4616-b57e-fb4ffbbce4b1 div.sk-label-container {position: relative;z-index: 2;text-align: center;}#sk-2e6b4683-95ed-4616-b57e-fb4ffbbce4b1 div.sk-container {/* jupyter's `normalize.less` sets `[hidden] { display: none; }` but bootstrap.min.css set `[hidden] { display: none !important; }` so we also need the `!important` here to be able to override the default hidden behavior on the sphinx rendered scikit-learn.org. See: https://github.com/scikit-learn/scikit-learn/issues/21755 */display: inline-block !important;position: relative;}#sk-2e6b4683-95ed-4616-b57e-fb4ffbbce4b1 div.sk-text-repr-fallback {display: none;}</style><div id=\"sk-2e6b4683-95ed-4616-b57e-fb4ffbbce4b1\" class=\"sk-top-container\"><div class=\"sk-text-repr-fallback\"><pre>GridSearchCV(cv=5,\n",
       "             estimator=Pipeline(steps=[(&#x27;regressor&#x27;, RandomForestRegressor())]),\n",
       "             param_grid={&#x27;regressor&#x27;: [KNeighborsRegressor(),\n",
       "                                       LinearRegression(),\n",
       "                                       RandomForestRegressor(random_state=42),\n",
       "                                       DecisionTreeRegressor(random_state=42),\n",
       "                                       XGBRegressor(base_score=None,\n",
       "                                                    booster=None,\n",
       "                                                    callbacks=None,\n",
       "                                                    colsample_bylevel=None,\n",
       "                                                    colsample_bynode=None,\n",
       "                                                    colsample_bytree=Non...\n",
       "                                                    interaction_constraints=None,\n",
       "                                                    learning_rate=None,\n",
       "                                                    max_bin=None,\n",
       "                                                    max_cat_threshold=None,\n",
       "                                                    max_cat_to_onehot=None,\n",
       "                                                    max_delta_step=None,\n",
       "                                                    max_depth=None,\n",
       "                                                    max_leaves=None,\n",
       "                                                    min_child_weight=None,\n",
       "                                                    missing=nan,\n",
       "                                                    monotone_constraints=None,\n",
       "                                                    n_estimators=100,\n",
       "                                                    n_jobs=None,\n",
       "                                                    num_parallel_tree=None,\n",
       "                                                    predictor=None,\n",
       "                                                    random_state=42, ...)]},\n",
       "             return_train_score=True, scoring=&#x27;neg_mean_squared_error&#x27;)</pre><b>Please rerun this cell to show the HTML repr or trust the notebook.</b></div><div class=\"sk-container\" hidden><div class=\"sk-item sk-dashed-wrapped\"><div class=\"sk-label-container\"><div class=\"sk-label sk-toggleable\"><input class=\"sk-toggleable__control sk-hidden--visually\" id=\"0236ea40-af5e-49fb-907e-79f96a790c81\" type=\"checkbox\" ><label for=\"0236ea40-af5e-49fb-907e-79f96a790c81\" class=\"sk-toggleable__label sk-toggleable__label-arrow\">GridSearchCV</label><div class=\"sk-toggleable__content\"><pre>GridSearchCV(cv=5,\n",
       "             estimator=Pipeline(steps=[(&#x27;regressor&#x27;, RandomForestRegressor())]),\n",
       "             param_grid={&#x27;regressor&#x27;: [KNeighborsRegressor(),\n",
       "                                       LinearRegression(),\n",
       "                                       RandomForestRegressor(random_state=42),\n",
       "                                       DecisionTreeRegressor(random_state=42),\n",
       "                                       XGBRegressor(base_score=None,\n",
       "                                                    booster=None,\n",
       "                                                    callbacks=None,\n",
       "                                                    colsample_bylevel=None,\n",
       "                                                    colsample_bynode=None,\n",
       "                                                    colsample_bytree=Non...\n",
       "                                                    interaction_constraints=None,\n",
       "                                                    learning_rate=None,\n",
       "                                                    max_bin=None,\n",
       "                                                    max_cat_threshold=None,\n",
       "                                                    max_cat_to_onehot=None,\n",
       "                                                    max_delta_step=None,\n",
       "                                                    max_depth=None,\n",
       "                                                    max_leaves=None,\n",
       "                                                    min_child_weight=None,\n",
       "                                                    missing=nan,\n",
       "                                                    monotone_constraints=None,\n",
       "                                                    n_estimators=100,\n",
       "                                                    n_jobs=None,\n",
       "                                                    num_parallel_tree=None,\n",
       "                                                    predictor=None,\n",
       "                                                    random_state=42, ...)]},\n",
       "             return_train_score=True, scoring=&#x27;neg_mean_squared_error&#x27;)</pre></div></div></div><div class=\"sk-parallel\"><div class=\"sk-parallel-item\"><div class=\"sk-item\"><div class=\"sk-serial\"><div class=\"sk-item\"><div class=\"sk-serial\"><div class=\"sk-item\"><div class=\"sk-estimator sk-toggleable\"><input class=\"sk-toggleable__control sk-hidden--visually\" id=\"92e33054-6140-4c2b-80af-436fd51bf165\" type=\"checkbox\" ><label for=\"92e33054-6140-4c2b-80af-436fd51bf165\" class=\"sk-toggleable__label sk-toggleable__label-arrow\">RandomForestRegressor</label><div class=\"sk-toggleable__content\"><pre>RandomForestRegressor()</pre></div></div></div></div></div></div></div></div></div></div></div></div>"
      ],
      "text/plain": [
       "GridSearchCV(cv=5,\n",
       "             estimator=Pipeline(steps=[('regressor', RandomForestRegressor())]),\n",
       "             param_grid={'regressor': [KNeighborsRegressor(),\n",
       "                                       LinearRegression(),\n",
       "                                       RandomForestRegressor(random_state=42),\n",
       "                                       DecisionTreeRegressor(random_state=42),\n",
       "                                       XGBRegressor(base_score=None,\n",
       "                                                    booster=None,\n",
       "                                                    callbacks=None,\n",
       "                                                    colsample_bylevel=None,\n",
       "                                                    colsample_bynode=None,\n",
       "                                                    colsample_bytree=Non...\n",
       "                                                    interaction_constraints=None,\n",
       "                                                    learning_rate=None,\n",
       "                                                    max_bin=None,\n",
       "                                                    max_cat_threshold=None,\n",
       "                                                    max_cat_to_onehot=None,\n",
       "                                                    max_delta_step=None,\n",
       "                                                    max_depth=None,\n",
       "                                                    max_leaves=None,\n",
       "                                                    min_child_weight=None,\n",
       "                                                    missing=nan,\n",
       "                                                    monotone_constraints=None,\n",
       "                                                    n_estimators=100,\n",
       "                                                    n_jobs=None,\n",
       "                                                    num_parallel_tree=None,\n",
       "                                                    predictor=None,\n",
       "                                                    random_state=42, ...)]},\n",
       "             return_train_score=True, scoring='neg_mean_squared_error')"
      ]
     },
     "execution_count": 152,
     "metadata": {},
     "output_type": "execute_result"
    }
   ],
   "source": [
    "grid_pip.fit(x_train, y_train)"
   ]
  },
  {
   "cell_type": "code",
   "execution_count": 154,
   "id": "949d6d99",
   "metadata": {},
   "outputs": [
    {
     "name": "stdout",
     "output_type": "stream",
     "text": [
      "0.01396835292974765\n",
      "Pipeline(steps=[('regressor',\n",
      "                 XGBRegressor(base_score=None, booster=None, callbacks=None,\n",
      "                              colsample_bylevel=None, colsample_bynode=None,\n",
      "                              colsample_bytree=None, early_stopping_rounds=None,\n",
      "                              enable_categorical=False, eval_metric=None,\n",
      "                              feature_types=None, gamma=None, gpu_id=None,\n",
      "                              grow_policy=None, importance_type=None,\n",
      "                              interaction_constraints=None, learning_rate=None,\n",
      "                              max_bin=None, max_cat_threshold=None,\n",
      "                              max_cat_to_onehot=None, max_delta_step=None,\n",
      "                              max_depth=None, max_leaves=None,\n",
      "                              min_child_weight=None, missing=nan,\n",
      "                              monotone_constraints=None, n_estimators=100,\n",
      "                              n_jobs=None, num_parallel_tree=None,\n",
      "                              predictor=None, random_state=42, ...))])\n"
     ]
    }
   ],
   "source": [
    "print(np.sqrt(-grid_pip.best_score_))\n",
    "\n",
    "print(grid_pip.best_estimator_)"
   ]
  },
  {
   "cell_type": "code",
   "execution_count": 155,
   "id": "d245751e",
   "metadata": {},
   "outputs": [],
   "source": [
    "result = pd.DataFrame(grid_pip.cv_results_)"
   ]
  },
  {
   "cell_type": "code",
   "execution_count": 156,
   "id": "faac9682",
   "metadata": {},
   "outputs": [
    {
     "data": {
      "text/html": [
       "<div>\n",
       "<style scoped>\n",
       "    .dataframe tbody tr th:only-of-type {\n",
       "        vertical-align: middle;\n",
       "    }\n",
       "\n",
       "    .dataframe tbody tr th {\n",
       "        vertical-align: top;\n",
       "    }\n",
       "\n",
       "    .dataframe thead th {\n",
       "        text-align: right;\n",
       "    }\n",
       "</style>\n",
       "<table border=\"1\" class=\"dataframe\">\n",
       "  <thead>\n",
       "    <tr style=\"text-align: right;\">\n",
       "      <th></th>\n",
       "      <th>mean_fit_time</th>\n",
       "      <th>std_fit_time</th>\n",
       "      <th>mean_score_time</th>\n",
       "      <th>std_score_time</th>\n",
       "      <th>param_regressor</th>\n",
       "      <th>params</th>\n",
       "      <th>split0_test_score</th>\n",
       "      <th>split1_test_score</th>\n",
       "      <th>split2_test_score</th>\n",
       "      <th>split3_test_score</th>\n",
       "      <th>...</th>\n",
       "      <th>mean_test_score</th>\n",
       "      <th>std_test_score</th>\n",
       "      <th>rank_test_score</th>\n",
       "      <th>split0_train_score</th>\n",
       "      <th>split1_train_score</th>\n",
       "      <th>split2_train_score</th>\n",
       "      <th>split3_train_score</th>\n",
       "      <th>split4_train_score</th>\n",
       "      <th>mean_train_score</th>\n",
       "      <th>std_train_score</th>\n",
       "    </tr>\n",
       "  </thead>\n",
       "  <tbody>\n",
       "    <tr>\n",
       "      <th>0</th>\n",
       "      <td>0.007941</td>\n",
       "      <td>0.015881</td>\n",
       "      <td>0.003110</td>\n",
       "      <td>0.006220</td>\n",
       "      <td>KNeighborsRegressor()</td>\n",
       "      <td>{'regressor': KNeighborsRegressor()}</td>\n",
       "      <td>-0.000437</td>\n",
       "      <td>-0.000111</td>\n",
       "      <td>-0.000136</td>\n",
       "      <td>-0.000314</td>\n",
       "      <td>...</td>\n",
       "      <td>-0.000305</td>\n",
       "      <td>0.000163</td>\n",
       "      <td>4</td>\n",
       "      <td>-1.751795e-04</td>\n",
       "      <td>-2.026428e-04</td>\n",
       "      <td>-1.746615e-04</td>\n",
       "      <td>-1.662428e-04</td>\n",
       "      <td>-1.653507e-04</td>\n",
       "      <td>-1.768155e-04</td>\n",
       "      <td>1.354687e-05</td>\n",
       "    </tr>\n",
       "    <tr>\n",
       "      <th>1</th>\n",
       "      <td>0.084836</td>\n",
       "      <td>0.169671</td>\n",
       "      <td>0.009373</td>\n",
       "      <td>0.018746</td>\n",
       "      <td>LinearRegression()</td>\n",
       "      <td>{'regressor': LinearRegression()}</td>\n",
       "      <td>-0.000275</td>\n",
       "      <td>-0.000189</td>\n",
       "      <td>-0.000162</td>\n",
       "      <td>-0.000173</td>\n",
       "      <td>...</td>\n",
       "      <td>-0.000218</td>\n",
       "      <td>0.000055</td>\n",
       "      <td>2</td>\n",
       "      <td>-1.873457e-04</td>\n",
       "      <td>-2.087836e-04</td>\n",
       "      <td>-2.134503e-04</td>\n",
       "      <td>-2.116425e-04</td>\n",
       "      <td>-1.823188e-04</td>\n",
       "      <td>-2.007082e-04</td>\n",
       "      <td>1.314425e-05</td>\n",
       "    </tr>\n",
       "    <tr>\n",
       "      <th>2</th>\n",
       "      <td>0.308029</td>\n",
       "      <td>0.045566</td>\n",
       "      <td>0.006969</td>\n",
       "      <td>0.003941</td>\n",
       "      <td>RandomForestRegressor(random_state=42)</td>\n",
       "      <td>{'regressor': RandomForestRegressor(random_sta...</td>\n",
       "      <td>-0.000315</td>\n",
       "      <td>-0.000189</td>\n",
       "      <td>-0.000185</td>\n",
       "      <td>-0.000240</td>\n",
       "      <td>...</td>\n",
       "      <td>-0.000269</td>\n",
       "      <td>0.000087</td>\n",
       "      <td>3</td>\n",
       "      <td>-3.685072e-05</td>\n",
       "      <td>-3.743378e-05</td>\n",
       "      <td>-3.798452e-05</td>\n",
       "      <td>-3.654999e-05</td>\n",
       "      <td>-4.102072e-05</td>\n",
       "      <td>-3.796795e-05</td>\n",
       "      <td>1.603982e-06</td>\n",
       "    </tr>\n",
       "    <tr>\n",
       "      <th>3</th>\n",
       "      <td>0.004537</td>\n",
       "      <td>0.003942</td>\n",
       "      <td>0.002057</td>\n",
       "      <td>0.003146</td>\n",
       "      <td>DecisionTreeRegressor(random_state=42)</td>\n",
       "      <td>{'regressor': DecisionTreeRegressor(random_sta...</td>\n",
       "      <td>-0.000515</td>\n",
       "      <td>-0.000518</td>\n",
       "      <td>-0.000459</td>\n",
       "      <td>-0.000515</td>\n",
       "      <td>...</td>\n",
       "      <td>-0.000543</td>\n",
       "      <td>0.000085</td>\n",
       "      <td>5</td>\n",
       "      <td>-0.000000e+00</td>\n",
       "      <td>-0.000000e+00</td>\n",
       "      <td>-0.000000e+00</td>\n",
       "      <td>-0.000000e+00</td>\n",
       "      <td>-0.000000e+00</td>\n",
       "      <td>0.000000e+00</td>\n",
       "      <td>0.000000e+00</td>\n",
       "    </tr>\n",
       "    <tr>\n",
       "      <th>4</th>\n",
       "      <td>0.330596</td>\n",
       "      <td>0.427529</td>\n",
       "      <td>0.007543</td>\n",
       "      <td>0.005156</td>\n",
       "      <td>XGBRegressor(base_score=None, booster=None, ca...</td>\n",
       "      <td>{'regressor': XGBRegressor(base_score=None, bo...</td>\n",
       "      <td>-0.000228</td>\n",
       "      <td>-0.000157</td>\n",
       "      <td>-0.000110</td>\n",
       "      <td>-0.000223</td>\n",
       "      <td>...</td>\n",
       "      <td>-0.000195</td>\n",
       "      <td>0.000054</td>\n",
       "      <td>1</td>\n",
       "      <td>-4.383590e-07</td>\n",
       "      <td>-4.692528e-07</td>\n",
       "      <td>-5.777969e-07</td>\n",
       "      <td>-6.628825e-07</td>\n",
       "      <td>-4.371560e-07</td>\n",
       "      <td>-5.170894e-07</td>\n",
       "      <td>8.923812e-08</td>\n",
       "    </tr>\n",
       "  </tbody>\n",
       "</table>\n",
       "<p>5 rows × 21 columns</p>\n",
       "</div>"
      ],
      "text/plain": [
       "   mean_fit_time  std_fit_time  mean_score_time  std_score_time  \\\n",
       "0       0.007941      0.015881         0.003110        0.006220   \n",
       "1       0.084836      0.169671         0.009373        0.018746   \n",
       "2       0.308029      0.045566         0.006969        0.003941   \n",
       "3       0.004537      0.003942         0.002057        0.003146   \n",
       "4       0.330596      0.427529         0.007543        0.005156   \n",
       "\n",
       "                                     param_regressor  \\\n",
       "0                              KNeighborsRegressor()   \n",
       "1                                 LinearRegression()   \n",
       "2             RandomForestRegressor(random_state=42)   \n",
       "3             DecisionTreeRegressor(random_state=42)   \n",
       "4  XGBRegressor(base_score=None, booster=None, ca...   \n",
       "\n",
       "                                              params  split0_test_score  \\\n",
       "0               {'regressor': KNeighborsRegressor()}          -0.000437   \n",
       "1                  {'regressor': LinearRegression()}          -0.000275   \n",
       "2  {'regressor': RandomForestRegressor(random_sta...          -0.000315   \n",
       "3  {'regressor': DecisionTreeRegressor(random_sta...          -0.000515   \n",
       "4  {'regressor': XGBRegressor(base_score=None, bo...          -0.000228   \n",
       "\n",
       "   split1_test_score  split2_test_score  split3_test_score  ...  \\\n",
       "0          -0.000111          -0.000136          -0.000314  ...   \n",
       "1          -0.000189          -0.000162          -0.000173  ...   \n",
       "2          -0.000189          -0.000185          -0.000240  ...   \n",
       "3          -0.000518          -0.000459          -0.000515  ...   \n",
       "4          -0.000157          -0.000110          -0.000223  ...   \n",
       "\n",
       "   mean_test_score  std_test_score  rank_test_score  split0_train_score  \\\n",
       "0        -0.000305        0.000163                4       -1.751795e-04   \n",
       "1        -0.000218        0.000055                2       -1.873457e-04   \n",
       "2        -0.000269        0.000087                3       -3.685072e-05   \n",
       "3        -0.000543        0.000085                5       -0.000000e+00   \n",
       "4        -0.000195        0.000054                1       -4.383590e-07   \n",
       "\n",
       "   split1_train_score  split2_train_score  split3_train_score  \\\n",
       "0       -2.026428e-04       -1.746615e-04       -1.662428e-04   \n",
       "1       -2.087836e-04       -2.134503e-04       -2.116425e-04   \n",
       "2       -3.743378e-05       -3.798452e-05       -3.654999e-05   \n",
       "3       -0.000000e+00       -0.000000e+00       -0.000000e+00   \n",
       "4       -4.692528e-07       -5.777969e-07       -6.628825e-07   \n",
       "\n",
       "   split4_train_score  mean_train_score  std_train_score  \n",
       "0       -1.653507e-04     -1.768155e-04     1.354687e-05  \n",
       "1       -1.823188e-04     -2.007082e-04     1.314425e-05  \n",
       "2       -4.102072e-05     -3.796795e-05     1.603982e-06  \n",
       "3       -0.000000e+00      0.000000e+00     0.000000e+00  \n",
       "4       -4.371560e-07     -5.170894e-07     8.923812e-08  \n",
       "\n",
       "[5 rows x 21 columns]"
      ]
     },
     "execution_count": 156,
     "metadata": {},
     "output_type": "execute_result"
    }
   ],
   "source": [
    "result"
   ]
  },
  {
   "cell_type": "markdown",
   "id": "a8582e16",
   "metadata": {},
   "source": [
    "Теперь, когда мы сузили круг алгоритмов, которые хорошо работают с этим набором данных, мы можем еще больше улучшить результат, настроив параметры этих моделей по отдельности с разными настройками. Здесь мы используем отдельные словари для каждого из алгоритмов, которые хотим настроить."
   ]
  },
  {
   "cell_type": "code",
   "execution_count": 157,
   "id": "0ad9c7b3",
   "metadata": {},
   "outputs": [],
   "source": [
    "pipe = Pipeline(\n",
    "    [\n",
    "        \n",
    "        (\"regressor\", RandomForestRegressor()),\n",
    "    ]\n",
    ")"
   ]
  },
  {
   "cell_type": "code",
   "execution_count": 158,
   "id": "8aa06681",
   "metadata": {},
   "outputs": [],
   "source": [
    "param_grid = [\n",
    "    {\n",
    "        \"regressor\": [RandomForestRegressor(random_state=42)],\n",
    "        \"regressor__n_estimators\": [100, 300, 500, 1000],\n",
    "        \"regressor__max_depth\": [3, 5, 8, 15],\n",
    "        \"regressor__max_features\": [\"log2\", \"sqrt\", \"auto\"],\n",
    "    },\n",
    "    {\n",
    "        \"regressor\": [XGBRegressor(random_state=42)],\n",
    "        \"regressor__max_depth\": [3, 5, 8, 15],\n",
    "        \"regressor__learning_rate\": [0.1, 0.01, 0.05],\n",
    "        \"regressor__gamma\": [0, 0.25, 1.0],\n",
    "        \"regressor__lambda\": [0, 1.0, 10.0],\n",
    "    },\n",
    "]"
   ]
  },
  {
   "cell_type": "code",
   "execution_count": 159,
   "id": "cf58e83f",
   "metadata": {},
   "outputs": [
    {
     "data": {
      "text/html": [
       "<style>#sk-cf355192-1473-4a43-92fa-b8e0cc42ebcb {color: black;background-color: white;}#sk-cf355192-1473-4a43-92fa-b8e0cc42ebcb pre{padding: 0;}#sk-cf355192-1473-4a43-92fa-b8e0cc42ebcb div.sk-toggleable {background-color: white;}#sk-cf355192-1473-4a43-92fa-b8e0cc42ebcb label.sk-toggleable__label {cursor: pointer;display: block;width: 100%;margin-bottom: 0;padding: 0.3em;box-sizing: border-box;text-align: center;}#sk-cf355192-1473-4a43-92fa-b8e0cc42ebcb label.sk-toggleable__label-arrow:before {content: \"▸\";float: left;margin-right: 0.25em;color: #696969;}#sk-cf355192-1473-4a43-92fa-b8e0cc42ebcb label.sk-toggleable__label-arrow:hover:before {color: black;}#sk-cf355192-1473-4a43-92fa-b8e0cc42ebcb div.sk-estimator:hover label.sk-toggleable__label-arrow:before {color: black;}#sk-cf355192-1473-4a43-92fa-b8e0cc42ebcb div.sk-toggleable__content {max-height: 0;max-width: 0;overflow: hidden;text-align: left;background-color: #f0f8ff;}#sk-cf355192-1473-4a43-92fa-b8e0cc42ebcb div.sk-toggleable__content pre {margin: 0.2em;color: black;border-radius: 0.25em;background-color: #f0f8ff;}#sk-cf355192-1473-4a43-92fa-b8e0cc42ebcb input.sk-toggleable__control:checked~div.sk-toggleable__content {max-height: 200px;max-width: 100%;overflow: auto;}#sk-cf355192-1473-4a43-92fa-b8e0cc42ebcb input.sk-toggleable__control:checked~label.sk-toggleable__label-arrow:before {content: \"▾\";}#sk-cf355192-1473-4a43-92fa-b8e0cc42ebcb div.sk-estimator input.sk-toggleable__control:checked~label.sk-toggleable__label {background-color: #d4ebff;}#sk-cf355192-1473-4a43-92fa-b8e0cc42ebcb div.sk-label input.sk-toggleable__control:checked~label.sk-toggleable__label {background-color: #d4ebff;}#sk-cf355192-1473-4a43-92fa-b8e0cc42ebcb input.sk-hidden--visually {border: 0;clip: rect(1px 1px 1px 1px);clip: rect(1px, 1px, 1px, 1px);height: 1px;margin: -1px;overflow: hidden;padding: 0;position: absolute;width: 1px;}#sk-cf355192-1473-4a43-92fa-b8e0cc42ebcb div.sk-estimator {font-family: monospace;background-color: #f0f8ff;border: 1px dotted black;border-radius: 0.25em;box-sizing: border-box;margin-bottom: 0.5em;}#sk-cf355192-1473-4a43-92fa-b8e0cc42ebcb div.sk-estimator:hover {background-color: #d4ebff;}#sk-cf355192-1473-4a43-92fa-b8e0cc42ebcb div.sk-parallel-item::after {content: \"\";width: 100%;border-bottom: 1px solid gray;flex-grow: 1;}#sk-cf355192-1473-4a43-92fa-b8e0cc42ebcb div.sk-label:hover label.sk-toggleable__label {background-color: #d4ebff;}#sk-cf355192-1473-4a43-92fa-b8e0cc42ebcb div.sk-serial::before {content: \"\";position: absolute;border-left: 1px solid gray;box-sizing: border-box;top: 2em;bottom: 0;left: 50%;}#sk-cf355192-1473-4a43-92fa-b8e0cc42ebcb div.sk-serial {display: flex;flex-direction: column;align-items: center;background-color: white;padding-right: 0.2em;padding-left: 0.2em;}#sk-cf355192-1473-4a43-92fa-b8e0cc42ebcb div.sk-item {z-index: 1;}#sk-cf355192-1473-4a43-92fa-b8e0cc42ebcb div.sk-parallel {display: flex;align-items: stretch;justify-content: center;background-color: white;}#sk-cf355192-1473-4a43-92fa-b8e0cc42ebcb div.sk-parallel::before {content: \"\";position: absolute;border-left: 1px solid gray;box-sizing: border-box;top: 2em;bottom: 0;left: 50%;}#sk-cf355192-1473-4a43-92fa-b8e0cc42ebcb div.sk-parallel-item {display: flex;flex-direction: column;position: relative;background-color: white;}#sk-cf355192-1473-4a43-92fa-b8e0cc42ebcb div.sk-parallel-item:first-child::after {align-self: flex-end;width: 50%;}#sk-cf355192-1473-4a43-92fa-b8e0cc42ebcb div.sk-parallel-item:last-child::after {align-self: flex-start;width: 50%;}#sk-cf355192-1473-4a43-92fa-b8e0cc42ebcb div.sk-parallel-item:only-child::after {width: 0;}#sk-cf355192-1473-4a43-92fa-b8e0cc42ebcb div.sk-dashed-wrapped {border: 1px dashed gray;margin: 0 0.4em 0.5em 0.4em;box-sizing: border-box;padding-bottom: 0.4em;background-color: white;position: relative;}#sk-cf355192-1473-4a43-92fa-b8e0cc42ebcb div.sk-label label {font-family: monospace;font-weight: bold;background-color: white;display: inline-block;line-height: 1.2em;}#sk-cf355192-1473-4a43-92fa-b8e0cc42ebcb div.sk-label-container {position: relative;z-index: 2;text-align: center;}#sk-cf355192-1473-4a43-92fa-b8e0cc42ebcb div.sk-container {/* jupyter's `normalize.less` sets `[hidden] { display: none; }` but bootstrap.min.css set `[hidden] { display: none !important; }` so we also need the `!important` here to be able to override the default hidden behavior on the sphinx rendered scikit-learn.org. See: https://github.com/scikit-learn/scikit-learn/issues/21755 */display: inline-block !important;position: relative;}#sk-cf355192-1473-4a43-92fa-b8e0cc42ebcb div.sk-text-repr-fallback {display: none;}</style><div id=\"sk-cf355192-1473-4a43-92fa-b8e0cc42ebcb\" class=\"sk-top-container\"><div class=\"sk-text-repr-fallback\"><pre>GridSearchCV(cv=5,\n",
       "             estimator=Pipeline(steps=[(&#x27;regressor&#x27;, RandomForestRegressor())]),\n",
       "             param_grid=[{&#x27;regressor&#x27;: [RandomForestRegressor(random_state=42)],\n",
       "                          &#x27;regressor__max_depth&#x27;: [3, 5, 8, 15],\n",
       "                          &#x27;regressor__max_features&#x27;: [&#x27;log2&#x27;, &#x27;sqrt&#x27;, &#x27;auto&#x27;],\n",
       "                          &#x27;regressor__n_estimators&#x27;: [100, 300, 500, 1000]},\n",
       "                         {&#x27;regressor&#x27;: [XGBRegressor(base_score=None,\n",
       "                                                     booster=None,\n",
       "                                                     callbacks=None,...\n",
       "                                                     max_delta_step=None,\n",
       "                                                     max_depth=3,\n",
       "                                                     max_leaves=None,\n",
       "                                                     min_child_weight=None,\n",
       "                                                     missing=nan,\n",
       "                                                     monotone_constraints=None,\n",
       "                                                     n_estimators=100,\n",
       "                                                     n_jobs=None,\n",
       "                                                     num_parallel_tree=None,\n",
       "                                                     predictor=None, ...)],\n",
       "                          &#x27;regressor__gamma&#x27;: [0, 0.25, 1.0],\n",
       "                          &#x27;regressor__lambda&#x27;: [0, 1.0, 10.0],\n",
       "                          &#x27;regressor__learning_rate&#x27;: [0.1, 0.01, 0.05],\n",
       "                          &#x27;regressor__max_depth&#x27;: [3, 5, 8, 15]}],\n",
       "             scoring=&#x27;neg_mean_squared_error&#x27;)</pre><b>Please rerun this cell to show the HTML repr or trust the notebook.</b></div><div class=\"sk-container\" hidden><div class=\"sk-item sk-dashed-wrapped\"><div class=\"sk-label-container\"><div class=\"sk-label sk-toggleable\"><input class=\"sk-toggleable__control sk-hidden--visually\" id=\"c05d3502-86ba-4690-9671-8122ce64ebb9\" type=\"checkbox\" ><label for=\"c05d3502-86ba-4690-9671-8122ce64ebb9\" class=\"sk-toggleable__label sk-toggleable__label-arrow\">GridSearchCV</label><div class=\"sk-toggleable__content\"><pre>GridSearchCV(cv=5,\n",
       "             estimator=Pipeline(steps=[(&#x27;regressor&#x27;, RandomForestRegressor())]),\n",
       "             param_grid=[{&#x27;regressor&#x27;: [RandomForestRegressor(random_state=42)],\n",
       "                          &#x27;regressor__max_depth&#x27;: [3, 5, 8, 15],\n",
       "                          &#x27;regressor__max_features&#x27;: [&#x27;log2&#x27;, &#x27;sqrt&#x27;, &#x27;auto&#x27;],\n",
       "                          &#x27;regressor__n_estimators&#x27;: [100, 300, 500, 1000]},\n",
       "                         {&#x27;regressor&#x27;: [XGBRegressor(base_score=None,\n",
       "                                                     booster=None,\n",
       "                                                     callbacks=None,...\n",
       "                                                     max_delta_step=None,\n",
       "                                                     max_depth=3,\n",
       "                                                     max_leaves=None,\n",
       "                                                     min_child_weight=None,\n",
       "                                                     missing=nan,\n",
       "                                                     monotone_constraints=None,\n",
       "                                                     n_estimators=100,\n",
       "                                                     n_jobs=None,\n",
       "                                                     num_parallel_tree=None,\n",
       "                                                     predictor=None, ...)],\n",
       "                          &#x27;regressor__gamma&#x27;: [0, 0.25, 1.0],\n",
       "                          &#x27;regressor__lambda&#x27;: [0, 1.0, 10.0],\n",
       "                          &#x27;regressor__learning_rate&#x27;: [0.1, 0.01, 0.05],\n",
       "                          &#x27;regressor__max_depth&#x27;: [3, 5, 8, 15]}],\n",
       "             scoring=&#x27;neg_mean_squared_error&#x27;)</pre></div></div></div><div class=\"sk-parallel\"><div class=\"sk-parallel-item\"><div class=\"sk-item\"><div class=\"sk-serial\"><div class=\"sk-item\"><div class=\"sk-serial\"><div class=\"sk-item\"><div class=\"sk-estimator sk-toggleable\"><input class=\"sk-toggleable__control sk-hidden--visually\" id=\"aca7ccd5-3e8f-458d-a437-dba71d4b256d\" type=\"checkbox\" ><label for=\"aca7ccd5-3e8f-458d-a437-dba71d4b256d\" class=\"sk-toggleable__label sk-toggleable__label-arrow\">RandomForestRegressor</label><div class=\"sk-toggleable__content\"><pre>RandomForestRegressor()</pre></div></div></div></div></div></div></div></div></div></div></div></div>"
      ],
      "text/plain": [
       "GridSearchCV(cv=5,\n",
       "             estimator=Pipeline(steps=[('regressor', RandomForestRegressor())]),\n",
       "             param_grid=[{'regressor': [RandomForestRegressor(random_state=42)],\n",
       "                          'regressor__max_depth': [3, 5, 8, 15],\n",
       "                          'regressor__max_features': ['log2', 'sqrt', 'auto'],\n",
       "                          'regressor__n_estimators': [100, 300, 500, 1000]},\n",
       "                         {'regressor': [XGBRegressor(base_score=None,\n",
       "                                                     booster=None,\n",
       "                                                     callbacks=None,...\n",
       "                                                     max_delta_step=None,\n",
       "                                                     max_depth=3,\n",
       "                                                     max_leaves=None,\n",
       "                                                     min_child_weight=None,\n",
       "                                                     missing=nan,\n",
       "                                                     monotone_constraints=None,\n",
       "                                                     n_estimators=100,\n",
       "                                                     n_jobs=None,\n",
       "                                                     num_parallel_tree=None,\n",
       "                                                     predictor=None, ...)],\n",
       "                          'regressor__gamma': [0, 0.25, 1.0],\n",
       "                          'regressor__lambda': [0, 1.0, 10.0],\n",
       "                          'regressor__learning_rate': [0.1, 0.01, 0.05],\n",
       "                          'regressor__max_depth': [3, 5, 8, 15]}],\n",
       "             scoring='neg_mean_squared_error')"
      ]
     },
     "execution_count": 159,
     "metadata": {},
     "output_type": "execute_result"
    }
   ],
   "source": [
    "grid_pip_1 = GridSearchCV(pipe, param_grid=param_grid, scoring=\"neg_mean_squared_error\", cv=5)\n",
    "grid_pip_1.fit(x_train, y_train)"
   ]
  },
  {
   "cell_type": "code",
   "execution_count": 161,
   "id": "1500956d",
   "metadata": {},
   "outputs": [
    {
     "name": "stdout",
     "output_type": "stream",
     "text": [
      "Pipeline(steps=[('regressor',\n",
      "                 XGBRegressor(base_score=None, booster=None, callbacks=None,\n",
      "                              colsample_bylevel=None, colsample_bynode=None,\n",
      "                              colsample_bytree=None, early_stopping_rounds=None,\n",
      "                              enable_categorical=False, eval_metric=None,\n",
      "                              feature_types=None, gamma=0, gpu_id=None,\n",
      "                              grow_policy=None, importance_type=None,\n",
      "                              interaction_constraints=None, lambda=1.0,\n",
      "                              learning_rate=0.1, max_bin=None,\n",
      "                              max_cat_threshold=None, max_cat_to_onehot=None,\n",
      "                              max_delta_step=None, max_depth=3, max_leaves=None,\n",
      "                              min_child_weight=None, missing=nan,\n",
      "                              monotone_constraints=None, n_estimators=100,\n",
      "                              n_jobs=None, num_parallel_tree=None,\n",
      "                              predictor=None, ...))])\n"
     ]
    }
   ],
   "source": [
    "print(grid_pip_1.best_estimator_)"
   ]
  },
  {
   "cell_type": "code",
   "execution_count": 163,
   "id": "f863b95d",
   "metadata": {},
   "outputs": [
    {
     "name": "stdout",
     "output_type": "stream",
     "text": [
      "0.011316250946228784\n"
     ]
    }
   ],
   "source": [
    "print(np.sqrt(-grid_pip_1.best_score_))"
   ]
  },
  {
   "cell_type": "markdown",
   "id": "1b252e34",
   "metadata": {},
   "source": [
    "На всех   использованых в данной работе  алгоритмах и медодах настройки и автоматизации\n",
    "были показаны достойные результаты по метрикам используемых в задачах регессии."
   ]
  },
  {
   "cell_type": "code",
   "execution_count": null,
   "id": "d7b2a332",
   "metadata": {},
   "outputs": [],
   "source": []
  }
 ],
 "metadata": {
  "kernelspec": {
   "display_name": "Python 3 (ipykernel)",
   "language": "python",
   "name": "python3"
  },
  "language_info": {
   "codemirror_mode": {
    "name": "ipython",
    "version": 3
   },
   "file_extension": ".py",
   "mimetype": "text/x-python",
   "name": "python",
   "nbconvert_exporter": "python",
   "pygments_lexer": "ipython3",
   "version": "3.9.13"
  }
 },
 "nbformat": 4,
 "nbformat_minor": 5
}
